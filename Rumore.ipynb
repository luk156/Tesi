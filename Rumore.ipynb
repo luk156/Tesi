{
 "metadata": {
  "name": "Rumore"
 },
 "nbformat": 3,
 "nbformat_minor": 0,
 "worksheets": [
  {
   "cells": [
    {
     "cell_type": "code",
     "collapsed": false,
     "input": [
      "import matplotlib as mpl\n",
      "\n",
      "#To make sure we have always the same matplotlib settings\n",
      "#(the ones in comments are the ipython notebook settings)\n",
      "\n",
      "mpl.rcParams['figure.figsize']=(20.0,12.0)    #(6.0,4.0)\n",
      "mpl.rcParams['font.size']=9                #10 \n",
      "mpl.rcParams['savefig.dpi']=72            #72 \n",
      "mpl.rcParams['figure.subplot.bottom']=.1\n",
      "import warnings\n",
      "warnings.filterwarnings('ignore')"
     ],
     "language": "python",
     "metadata": {},
     "outputs": [],
     "prompt_number": 1
    },
    {
     "cell_type": "code",
     "collapsed": false,
     "input": [
      "sts2 = {\n",
      "\t'gain': 1500.0,\n",
      "\t'poles': [(-0.037+0.037j), (-0.037-0.037j) ],\n",
      "\t'sensitivity': 1/1.5896e-6,\n",
      "\t'zeros': [0j, 0j] }"
     ],
     "language": "python",
     "metadata": {},
     "outputs": [],
     "prompt_number": 2
    },
    {
     "cell_type": "code",
     "collapsed": false,
     "input": [
      "import obspy as ob\n",
      "import datetime as dt\n",
      "import sismo\n",
      "\n",
      "sismo_data_folder = \"/home/matteo/Tesi-data/sismometro/\"\n",
      "UTCstart = ob.UTCDateTime( dt.datetime(day = 17, month = 2, year = 2013, hour=0 ) )\n",
      "UTCstop = ob.UTCDateTime( dt.datetime(day = 18, month = 2, year = 2013, hour=0) )\n",
      "\n",
      "tr = ob.read('./G-Laser-2013_2_17-0_0_2_18-0_0.SAC' )\n",
      "\n",
      "# i dati del giroscopio sono a 100 Hertz quindi li decimo per uniformarli\n",
      "tr.decimate(2)\n",
      "tr.detrend(type=\"linear\")\n",
      "tr.filter('highpass', freq=0.0001 ,corners=1)\n",
      "\n",
      "st=sismo.read_sismo_stream2(sismo_data_folder, UTCstart, UTCstop)\n",
      "st.detrend(type=\"linear\")\n",
      "st.filter('highpass', freq=0.0001 ,corners=1)\n",
      "#st.simulate(paz_remove=sts2)\n",
      "st.differentiate()"
     ],
     "language": "python",
     "metadata": {},
     "outputs": [
      {
       "output_type": "stream",
       "stream": "stdout",
       "text": [
        "open /home/matteo/Tesi-data/sismometro/2013.02.17-00.00.00.A295.*.SAC.resamp\n"
       ]
      },
      {
       "output_type": "stream",
       "stream": "stderr",
       "text": [
        "/usr/lib/python2.7/dist-packages/obspy/core/util/base.py:15: UserWarning: Module dap was already imported from None, but /usr/lib/python2.7/dist-packages is being added to sys.path\n",
        "  from pkg_resources import require, iter_entry_points, load_entry_point\n"
       ]
      }
     ],
     "prompt_number": 2
    },
    {
     "cell_type": "code",
     "collapsed": false,
     "input": [
      "st[1].plot()"
     ],
     "language": "python",
     "metadata": {},
     "outputs": [],
     "prompt_number": 3
    },
    {
     "cell_type": "code",
     "collapsed": false,
     "input": [
      "def rms(data, window):\n",
      "    \"\"\" performs the moving-window smoothing of a signal using RMS \"\"\"\n",
      "    n = len(data)\n",
      "    rms_signal = numpy.zeros((n-window)/(window/2)+1)\n",
      "    rms_t = numpy.zeros((n-window)/(window/2)+1)\n",
      "    i=0\n",
      "    k=0\n",
      "    while i<n-window:\n",
      "        small_index = i\n",
      "        big_index = (i+window)   # intended to avoid boundary effect\n",
      "        window_samples = data[small_index:big_index]\n",
      "\n",
      "        # here is the RMS of the window, being attributed to rms_signal 'k'th sample:\n",
      "        rms_signal[k] = sqrt(sum([s**2 for s in window_samples])/len(window_samples))\n",
      "        rms_t[k] = i+window/2\n",
      "        i=i+window/2\n",
      "        k=k+1\n",
      "    return rms_signal,rms_t\n"
     ],
     "language": "python",
     "metadata": {},
     "outputs": [],
     "prompt_number": 91
    },
    {
     "cell_type": "code",
     "collapsed": false,
     "input": [
      "d=np.linspace(0,25,15)\n",
      "range(len(d)-1)\n"
     ],
     "language": "python",
     "metadata": {},
     "outputs": [
      {
       "output_type": "pyout",
       "prompt_number": 38,
       "text": [
        "[0, 1, 2, 3, 4, 5, 6, 7, 8, 9, 10, 11, 12, 13]"
       ]
      }
     ],
     "prompt_number": 38
    },
    {
     "cell_type": "code",
     "collapsed": false,
     "input": [
      "d=np.linspace(0,25,15)\n",
      "y=[]\n",
      "\n",
      "for i in range(len(d)-1):\n",
      "    st2=st.copy()\n",
      "    tr2=tr.copy()\n",
      "    st2.filter('bandpass',freqmin=d[i],freqmax=d[i+1], zerophase=1, corners=2)\n",
      "    tr2.filter('bandpass',freqmin=d[i],freqmax=d[i+1], zerophase=1, corners=2)\n",
      "    k,t=rms(st2[2].data*1.5896e-6/1500.0,60*50)\n",
      "    k1,t1=rms(tr2[0].data*1e3,60*50)\n",
      "    #pylab.plot(t1[20:]/50,k1[20:]*1e2,'r',label=\"laser\")\n",
      "    #pylab.plot(t[20:]/50,k[20:],'b',label=\"sismometro\")\n",
      "    a,b = ob.signal.xcorr(k[20:], k1[20:], 0)\n",
      "    y=np.append(y,b)\n",
      "    print itr\n",
      "pylab.plot(y)\n",
      "    "
     ],
     "language": "python",
     "metadata": {},
     "outputs": [
      {
       "output_type": "stream",
       "stream": "stdout",
       "text": [
        "0\n",
        "1"
       ]
      },
      {
       "output_type": "stream",
       "stream": "stdout",
       "text": [
        "\n",
        "2"
       ]
      },
      {
       "output_type": "stream",
       "stream": "stdout",
       "text": [
        "\n",
        "3"
       ]
      },
      {
       "output_type": "stream",
       "stream": "stdout",
       "text": [
        "\n",
        "4"
       ]
      },
      {
       "output_type": "stream",
       "stream": "stdout",
       "text": [
        "\n",
        "5"
       ]
      },
      {
       "output_type": "stream",
       "stream": "stdout",
       "text": [
        "\n",
        "6"
       ]
      },
      {
       "output_type": "stream",
       "stream": "stdout",
       "text": [
        "\n",
        "7"
       ]
      },
      {
       "output_type": "stream",
       "stream": "stdout",
       "text": [
        "\n",
        "8"
       ]
      },
      {
       "output_type": "stream",
       "stream": "stdout",
       "text": [
        "\n",
        "9"
       ]
      },
      {
       "output_type": "stream",
       "stream": "stdout",
       "text": [
        "\n",
        "10"
       ]
      },
      {
       "output_type": "stream",
       "stream": "stdout",
       "text": [
        "\n",
        "11"
       ]
      },
      {
       "output_type": "stream",
       "stream": "stdout",
       "text": [
        "\n",
        "12"
       ]
      },
      {
       "output_type": "stream",
       "stream": "stdout",
       "text": [
        "\n",
        "13"
       ]
      },
      {
       "output_type": "stream",
       "stream": "stdout",
       "text": [
        "\n"
       ]
      },
      {
       "output_type": "pyout",
       "prompt_number": 37,
       "text": [
        "[<matplotlib.lines.Line2D at 0xd0f4790>]"
       ]
      }
     ],
     "prompt_number": 37
    },
    {
     "cell_type": "code",
     "collapsed": false,
     "input": [
      "k,t=rms(st2[1].data*1.5896e-6/1500.0,60*50)\n",
      "k1,t1=rms(tr2[0].data,60*50)\n",
      "\n"
     ],
     "language": "python",
     "metadata": {},
     "outputs": [],
     "prompt_number": 12
    },
    {
     "cell_type": "code",
     "collapsed": false,
     "input": [],
     "language": "python",
     "metadata": {},
     "outputs": []
    },
    {
     "cell_type": "code",
     "collapsed": false,
     "input": [
      "a,b = ob.signal.xcorr(k[20:], k1[20:], 0)\n",
      "print a\n",
      "print b"
     ],
     "language": "python",
     "metadata": {},
     "outputs": [
      {
       "output_type": "stream",
       "stream": "stdout",
       "text": [
        "0\n",
        "0.0535527082387\n"
       ]
      }
     ],
     "prompt_number": 13
    },
    {
     "cell_type": "code",
     "collapsed": false,
     "input": [
      "x=np.random.randn(size(t[0]))\n",
      "t=matplotlib.mlab.psd(x, NFFT=100000, Fs=50, noverlap=0, pad_to=None, sides='default', scale_by_freq=True)\n",
      "pylab.plot(t[1],t[0])\n",
      "pylab.yscale('log')\n",
      "pylab.xscale('log')\n",
      "#pylab.xlim(0,1)\n",
      "#pylab.ylim(1e-20,1e-8)\n",
      "pylab.show()"
     ],
     "language": "python",
     "metadata": {},
     "outputs": [],
     "prompt_number": 111
    },
    {
     "cell_type": "code",
     "collapsed": false,
     "input": [
      "t=matplotlib.mlab.psd(tr[0].data, NFFT=100000, Fs=50, noverlap=0, pad_to=None, sides='default', scale_by_freq=True)\n",
      "t2=matplotlib.mlab.psd(st[0].data, NFFT=100000, Fs=50, noverlap=0, pad_to=None, sides='default', scale_by_freq=True)\n",
      "t3=matplotlib.mlab.psd(st[1].data, NFFT=100000, Fs=50, noverlap=0, pad_to=None, sides='default', scale_by_freq=True)\n",
      "t4=matplotlib.mlab.psd(st[2].data, NFFT=100000, Fs=50, noverlap=0, pad_to=None, sides='default', scale_by_freq=True)\n",
      "pylab.plot(t[1],t[0])\n",
      "pylab.plot(t2[1],t2[0],'r')\n",
      "pylab.plot(t3[1],t3[0],'b')\n",
      "pylab.plot(t3[1],t4[0],'g')\n",
      "pylab.yscale('log')\n",
      "pylab.xscale('log')\n",
      "#pylab.xlim(0,1)\n",
      "#pylab.ylim(1e-20,1e-8)\n",
      "pylab.show()\n",
      "\n",
      "#t[1][t[0].argmax()]"
     ],
     "language": "python",
     "metadata": {},
     "outputs": [],
     "prompt_number": 27
    },
    {
     "cell_type": "code",
     "collapsed": false,
     "input": [
      "#tr.detrend(type=\"linear\")\n",
      "s = np.fft.fft(tr[0].data)"
     ],
     "language": "python",
     "metadata": {},
     "outputs": [],
     "prompt_number": 24
    },
    {
     "cell_type": "code",
     "collapsed": false,
     "input": [
      "pylab.plot(abs(s))\n",
      "pylab.yscale('log')\n",
      "pylab.xscale('log')"
     ],
     "language": "python",
     "metadata": {},
     "outputs": [],
     "prompt_number": 25
    },
    {
     "cell_type": "code",
     "collapsed": false,
     "input": [
      "tr[0].data.shape"
     ],
     "language": "python",
     "metadata": {},
     "outputs": [
      {
       "output_type": "pyout",
       "prompt_number": 118,
       "text": [
        "(4320000,)"
       ]
      }
     ],
     "prompt_number": 118
    },
    {
     "cell_type": "heading",
     "level": 1,
     "metadata": {},
     "source": [
      "_____________________________________________________"
     ]
    },
    {
     "cell_type": "code",
     "collapsed": false,
     "input": [
      "window=50*60*60*0.5\n",
      "hoverlap=0.5\n",
      "i=0\n",
      "j=window\n",
      "n=0\n",
      "spe_l=np.array([])\n",
      "spe_sz=np.array([])\n",
      "spe_s1=np.array([])\n",
      "spe_s2=np.array([])\n",
      "t=np.array([])\n",
      "while j<len(st[0].data):\n",
      "    spe_l=np.append(spe_l,matplotlib.mlab.specgram(tr[0].data[i:j]*1e3, NFFT=60*50, Fs=50, noverlap=30*50))\n",
      "    spe_sz=np.append(spe_sz,matplotlib.mlab.specgram(st[0].data[i:j]*1.5896e-6/1500.0, NFFT=60*50, Fs=50, noverlap=30*50))\n",
      "    spe_s1=np.append(spe_sz,matplotlib.mlab.specgram(st[1].data[i:j]*1.5896e-6/1500.0, NFFT=60*50, Fs=50, noverlap=30*50))\n",
      "    spe_s2=np.append(spe_sz,matplotlib.mlab.specgram(st[2].data[i:j]*1.5896e-6/1500.0, NFFT=60*50, Fs=50, noverlap=30*50))\n",
      "    i=i+window*hoverlap\n",
      "    j=j+window*hoverlap\n",
      "    n=n+1\n",
      "    t=np.append(t,(i+j)/2.0)\n",
      "spe_l=np.reshape(spe_l, (-1,3))\n",
      "spe_sz=np.reshape(spe_sz, (-1,3))\n",
      "spe_s1=np.reshape(spe_s1, (-1,3))\n",
      "spe_s2=np.reshape(spe_s2, (-1,3))\n"
     ],
     "language": "python",
     "metadata": {},
     "outputs": [],
     "prompt_number": 3
    },
    {
     "cell_type": "code",
     "collapsed": false,
     "input": [
      "k=0\n",
      "T=np.ones([22,len(spe_l[k][1])])\n",
      "c=[]\n",
      "for k in range(22):\n",
      "    a=np.zeros(spe_l[k][1].shape[0])\n",
      "    b=np.zeros(spe_l[k][1].shape[0])\n",
      "    #itero su tutte le frequenze dello spectrogramma\n",
      "    for i in range(spe_l[k][1].shape[0]):\n",
      "            #calcolo la correlazione tra lo spettrogramma del sismometro e laser per ogni frequenza\n",
      "            a[i],b[i] = ob.signal.xcorr(spe_l[k][0][i], spe_s1[k][0][i], 0)\n",
      "    c=np.append(c,b)\n",
      "    #pylab.plot(spe_l[k][1],b)\n",
      "    T[k]=T[k]*t[k]\n",
      "c=np.reshape(c, (-1,1501))\n",
      "#pylab.xlabel(\"Freq. Hz\")\n",
      "#pylab.ylabel(\"coerenza\")\n",
      "#pylab.legend()\n",
      "#pylab.xscale('log')\n",
      "\n",
      "#z=np.zeros(len(b))\n",
      "    "
     ],
     "language": "python",
     "metadata": {},
     "outputs": [],
     "prompt_number": "*"
    },
    {
     "cell_type": "code",
     "collapsed": false,
     "input": [
      "c[2].shape"
     ],
     "language": "python",
     "metadata": {},
     "outputs": [
      {
       "output_type": "pyout",
       "prompt_number": 401,
       "text": [
        "(1501,)"
       ]
      }
     ],
     "prompt_number": 401
    },
    {
     "cell_type": "code",
     "collapsed": false,
     "input": [
      "from mpl_toolkits.mplot3d import Axes3D\n",
      "fig = plt.figure()\n",
      "\n",
      "ax = fig.add_subplot(111)\n",
      "#ax.set_yscale('log')\n",
      "plt.ylim(0.01,25)\n",
      "#for k in range(22):\n",
      "#    ax.plot(spe_l[k][1],T[k],c[k])\n",
      "norm = Normalize(c.min(), c.max(), clip=True)\n",
      "X, Y = np.meshgrid(t,spe_l[k][1])\n",
      "ax.pcolormesh(X, Y, c.T,norm=norm)\n",
      "plt.title(\"correlazione tra i power spectrum\")\n",
      "plt.xlabel(\"tempo (s)\")\n",
      "plt.ylabel(\"frequenza\")\n",
      "plt.show()\n"
     ],
     "language": "python",
     "metadata": {},
     "outputs": [],
     "prompt_number": 403
    },
    {
     "cell_type": "code",
     "collapsed": false,
     "input": [
      "\n",
      "\n",
      "\n"
     ],
     "language": "python",
     "metadata": {},
     "outputs": [
      {
       "output_type": "pyout",
       "prompt_number": 384,
       "text": [
        "array([[       -inf,        -inf,        -inf, ...,        -inf,\n",
        "               -inf,        -inf],\n",
        "       [       -inf,        -inf,         nan, ...,        -inf,\n",
        "               -inf,        -inf],\n",
        "       [       -inf,        -inf,         nan, ...,        -inf,\n",
        "               -inf,        -inf],\n",
        "       ..., \n",
        "       [       -inf,  8.51396083,         nan, ...,        -inf,\n",
        "               -inf,        -inf],\n",
        "       [       -inf,  7.32381832,         nan, ...,        -inf,\n",
        "               -inf,        -inf],\n",
        "       [       -inf,        -inf,         nan, ...,        -inf,\n",
        "               -inf,        -inf]])"
       ]
      }
     ],
     "prompt_number": 384
    },
    {
     "cell_type": "code",
     "collapsed": false,
     "input": [
      "k[3].shape"
     ],
     "language": "python",
     "metadata": {},
     "outputs": [
      {
       "ename": "IndexError",
       "evalue": "tuple index out of range",
       "output_type": "pyerr",
       "traceback": [
        "\u001b[0;31m---------------------------------------------------------------------------\u001b[0m\n\u001b[0;31mIndexError\u001b[0m                                Traceback (most recent call last)",
        "\u001b[0;32m<ipython-input-300-003636334ef7>\u001b[0m in \u001b[0;36m<module>\u001b[0;34m()\u001b[0m\n\u001b[0;32m----> 1\u001b[0;31m \u001b[0mk\u001b[0m\u001b[0;34m[\u001b[0m\u001b[0;36m3\u001b[0m\u001b[0;34m]\u001b[0m\u001b[0;34m.\u001b[0m\u001b[0mshape\u001b[0m\u001b[0;34m\u001b[0m\u001b[0m\n\u001b[0m",
        "\u001b[0;31mIndexError\u001b[0m: tuple index out of range"
       ]
      }
     ],
     "prompt_number": 300
    },
    {
     "cell_type": "code",
     "collapsed": false,
     "input": [
      "np.reshape(T,(1,-1))"
     ],
     "language": "python",
     "metadata": {},
     "outputs": [
      {
       "output_type": "pyout",
       "prompt_number": 307,
       "text": [
        "array([[  360000.,   360000.,   360000., ...,  4140000.,  4140000.,\n",
        "         4140000.]])"
       ]
      }
     ],
     "prompt_number": 307
    },
    {
     "cell_type": "code",
     "collapsed": false,
     "input": [
      "data = np.clip(randn(250, 250), -1, 1)"
     ],
     "language": "python",
     "metadata": {},
     "outputs": [],
     "prompt_number": 321
    },
    {
     "cell_type": "code",
     "collapsed": false,
     "input": [
      "data.shape\n"
     ],
     "language": "python",
     "metadata": {},
     "outputs": [
      {
       "output_type": "pyout",
       "prompt_number": 327,
       "text": [
        "(250, 250)"
       ]
      }
     ],
     "prompt_number": 327
    },
    {
     "cell_type": "code",
     "collapsed": false,
     "input": [],
     "language": "python",
     "metadata": {},
     "outputs": []
    }
   ],
   "metadata": {}
  }
 ]
}