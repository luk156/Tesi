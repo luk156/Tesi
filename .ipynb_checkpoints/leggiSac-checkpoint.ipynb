{
 "metadata": {
  "name": ""
 },
 "nbformat": 3,
 "nbformat_minor": 0,
 "worksheets": [
  {
   "cells": [
    {
     "cell_type": "code",
     "collapsed": false,
     "input": [
      "import matplotlib as mpl\n",
      "\n",
      "#To make sure we have always the same matplotlib settings\n",
      "#(the ones in comments are the ipython notebook settings)\n",
      "\n",
      "mpl.rcParams['figure.figsize']=(6.0,4.0)    #(6.0,4.0)\n",
      "mpl.rcParams['font.size']=9                #10 \n",
      "mpl.rcParams['savefig.dpi']=150 #72 \n",
      "mpl.rcParams['toolbar']='toolbar2'"
     ],
     "language": "python",
     "metadata": {},
     "outputs": [],
     "prompt_number": 8
    },
    {
     "cell_type": "code",
     "collapsed": false,
     "input": [
      "import obspy as ob\n",
      "from obspy import signal, sac, core\n",
      "import datetime as dt\n",
      "import sismo\n"
     ],
     "language": "python",
     "metadata": {},
     "outputs": [],
     "prompt_number": 27
    },
    {
     "cell_type": "code",
     "collapsed": false,
     "input": [
      "UTCstart = ob.UTCDateTime( dt.datetime(day = 18, month = 2, year = 2013, hour =0 , minute = 0, second = 0) )\n",
      "reload(sismo)\n",
      "sismo_data_folder = \"/home/matteo/Tesi/Tesi-data/sismometro/\"\n",
      "st=sismo.read_sismo_stream(UTCstart, sismo_data_folder)"
     ],
     "language": "python",
     "metadata": {},
     "outputs": [
      {
       "output_type": "stream",
       "stream": "stdout",
       "text": [
        "open /home/matteo/Tesi/Tesi-data/sismometro/2013.02.18-00.00.00.A295.*.SAC.resamp\n"
       ]
      }
     ],
     "prompt_number": 28
    },
    {
     "cell_type": "code",
     "collapsed": false,
     "input": [
      "#st.detrend('simple')\n",
      "#st.plot()\n",
      "st2=st.copy()"
     ],
     "language": "python",
     "metadata": {},
     "outputs": [],
     "prompt_number": 29
    },
    {
     "cell_type": "code",
     "collapsed": false,
     "input": [
      "st[0].data[0]"
     ],
     "language": "python",
     "metadata": {},
     "outputs": [
      {
       "metadata": {},
       "output_type": "pyout",
       "prompt_number": 30,
       "text": [
        "32591.812"
       ]
      }
     ],
     "prompt_number": 30
    },
    {
     "cell_type": "code",
     "collapsed": false,
     "input": [
      "st2[0].detrend('simple')"
     ],
     "language": "python",
     "metadata": {},
     "outputs": [],
     "prompt_number": 31
    },
    {
     "cell_type": "code",
     "collapsed": false,
     "input": [
      "pylab.figure()\n",
      "pylab.plot(st[0].data)\n",
      "pylab.plot(st2[0].data,'g')\n",
      "pylab.show()"
     ],
     "language": "python",
     "metadata": {},
     "outputs": [],
     "prompt_number": 32
    },
    {
     "cell_type": "code",
     "collapsed": false,
     "input": [
      "st[0].data[-1]"
     ],
     "language": "python",
     "metadata": {},
     "outputs": [
      {
       "metadata": {},
       "output_type": "pyout",
       "prompt_number": 49,
       "text": [
        "-133818.75"
       ]
      }
     ],
     "prompt_number": 49
    },
    {
     "cell_type": "code",
     "collapsed": false,
     "input": [
      "data = st[0].data\n",
      "ndat = len(data)\n",
      "x1, x2 = data[0], data[-1]\n",
      "data = data - (x1 + np.arange(ndat) * (x2 - x1) / float(ndat - 1))"
     ],
     "language": "python",
     "metadata": {},
     "outputs": [],
     "prompt_number": 34
    },
    {
     "cell_type": "code",
     "collapsed": false,
     "input": [
      "pylab.plot(data)"
     ],
     "language": "python",
     "metadata": {},
     "outputs": [
      {
       "metadata": {},
       "output_type": "pyout",
       "prompt_number": 35,
       "text": [
        "[<matplotlib.lines.Line2D at 0x3f38a50>]"
       ]
      }
     ],
     "prompt_number": 35
    },
    {
     "cell_type": "code",
     "collapsed": false,
     "input": [
      "(x2 - x1) / float(ndat - 1)"
     ],
     "language": "python",
     "metadata": {},
     "outputs": [
      {
       "metadata": {},
       "output_type": "pyout",
       "prompt_number": 43,
       "text": [
        "-0.038520883289826481"
       ]
      }
     ],
     "prompt_number": 43
    },
    {
     "cell_type": "code",
     "collapsed": false,
     "input": [
      "pylab.plot(st[0].data[-100:])\n",
      "pylab.plot(st[0].data[:100])"
     ],
     "language": "python",
     "metadata": {},
     "outputs": [
      {
       "metadata": {},
       "output_type": "pyout",
       "prompt_number": 57,
       "text": [
        "[<matplotlib.lines.Line2D at 0x3f25a90>]"
       ]
      }
     ],
     "prompt_number": 57
    },
    {
     "cell_type": "code",
     "collapsed": false,
     "input": [],
     "language": "python",
     "metadata": {},
     "outputs": []
    }
   ],
   "metadata": {}
  }
 ]
}