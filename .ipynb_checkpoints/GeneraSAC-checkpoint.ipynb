{
 "metadata": {
  "name": ""
 },
 "nbformat": 3,
 "nbformat_minor": 0,
 "worksheets": [
  {
   "cells": [
    {
     "cell_type": "code",
     "collapsed": false,
     "input": [
      "\n",
      "import datetime as dt\n",
      "import unisci\n",
      "\n",
      "data_folder = \"/home/matteo/Tesi/Tesi-data/glaser-data/\"\n",
      "\n",
      "start = dt.datetime(day = 16, month = 2, year = 2013, hour = 22, minute = 59, second = 0 )\n",
      "stop = dt.datetime(day = 16, month = 2, year = 2013, hour =23 , minute = 1, second = 0)\n",
      "\n",
      "f=unisci.generate_sac(start, stop, data_folder)"
     ],
     "language": "python",
     "metadata": {},
     "outputs": [
      {
       "output_type": "stream",
       "stream": "stdout",
       "text": [
        "open /home/matteo/Tesi-data/glaser-data/2013/2/16/data22.dat\n",
        "file non trovato\n",
        "open"
       ]
      },
      {
       "output_type": "stream",
       "stream": "stdout",
       "text": [
        " /home/matteo/Tesi-data/glaser-data/2013/2/16/data23.dat\n",
        "file non trovato\n",
        "writing "
       ]
      },
      {
       "ename": "SacError",
       "evalue": "input needs to be of instance numpy.ndarray",
       "output_type": "pyerr",
       "traceback": [
        "\u001b[1;31m---------------------------------------------------------------------------\u001b[0m\n\u001b[1;31mSacError\u001b[0m                                  Traceback (most recent call last)",
        "\u001b[1;32m<ipython-input-1-7d445b7f6641>\u001b[0m in \u001b[0;36m<module>\u001b[1;34m()\u001b[0m\n\u001b[0;32m      8\u001b[0m \u001b[0mstop\u001b[0m \u001b[1;33m=\u001b[0m \u001b[0mdt\u001b[0m\u001b[1;33m.\u001b[0m\u001b[0mdatetime\u001b[0m\u001b[1;33m(\u001b[0m\u001b[0mday\u001b[0m \u001b[1;33m=\u001b[0m \u001b[1;36m16\u001b[0m\u001b[1;33m,\u001b[0m \u001b[0mmonth\u001b[0m \u001b[1;33m=\u001b[0m \u001b[1;36m2\u001b[0m\u001b[1;33m,\u001b[0m \u001b[0myear\u001b[0m \u001b[1;33m=\u001b[0m \u001b[1;36m2013\u001b[0m\u001b[1;33m,\u001b[0m \u001b[0mhour\u001b[0m \u001b[1;33m=\u001b[0m\u001b[1;36m23\u001b[0m \u001b[1;33m,\u001b[0m \u001b[0mminute\u001b[0m \u001b[1;33m=\u001b[0m \u001b[1;36m1\u001b[0m\u001b[1;33m,\u001b[0m \u001b[0msecond\u001b[0m \u001b[1;33m=\u001b[0m \u001b[1;36m0\u001b[0m\u001b[1;33m)\u001b[0m\u001b[1;33m\u001b[0m\u001b[0m\n\u001b[0;32m      9\u001b[0m \u001b[1;33m\u001b[0m\u001b[0m\n\u001b[1;32m---> 10\u001b[1;33m \u001b[0mf\u001b[0m\u001b[1;33m=\u001b[0m\u001b[0munisci\u001b[0m\u001b[1;33m.\u001b[0m\u001b[0mgenerate_sac\u001b[0m\u001b[1;33m(\u001b[0m\u001b[0mstart\u001b[0m\u001b[1;33m,\u001b[0m \u001b[0mstop\u001b[0m\u001b[1;33m,\u001b[0m \u001b[0mdata_folder\u001b[0m\u001b[1;33m)\u001b[0m\u001b[1;33m\u001b[0m\u001b[0m\n\u001b[0m",
        "\u001b[1;32m/home/matteo/Tesi/unisci.py\u001b[0m in \u001b[0;36mgenerate_sac\u001b[1;34m(start, stop, data_folder, destination_folder, file_name, extra_points, channel_array, sagnac_index, header_sac)\u001b[0m\n\u001b[0;32m    116\u001b[0m     \u001b[1;32mfor\u001b[0m \u001b[0mh\u001b[0m \u001b[1;32min\u001b[0m \u001b[0mheader_sac\u001b[0m\u001b[1;33m:\u001b[0m\u001b[1;33m\u001b[0m\u001b[0m\n\u001b[0;32m    117\u001b[0m         \u001b[0mh_trace\u001b[0m \u001b[1;33m=\u001b[0m \u001b[0msac\u001b[0m\u001b[1;33m.\u001b[0m\u001b[0mSacIO\u001b[0m\u001b[1;33m(\u001b[0m\u001b[1;33m)\u001b[0m\u001b[1;33m\u001b[0m\u001b[0m\n\u001b[1;32m--> 118\u001b[1;33m         \u001b[0mh_trace\u001b[0m\u001b[1;33m.\u001b[0m\u001b[0mfromarray\u001b[0m\u001b[1;33m(\u001b[0m\u001b[0mheader\u001b[0m\u001b[1;33m[\u001b[0m \u001b[0mheader_sac\u001b[0m\u001b[1;33m[\u001b[0m \u001b[0mh\u001b[0m \u001b[1;33m]\u001b[0m \u001b[1;33m]\u001b[0m\u001b[1;33m,\u001b[0m \u001b[0mstarttime\u001b[0m\u001b[1;33m=\u001b[0m\u001b[0mob\u001b[0m\u001b[1;33m.\u001b[0m\u001b[0mUTCDateTime\u001b[0m\u001b[1;33m(\u001b[0m\u001b[0mstart\u001b[0m\u001b[1;33m)\u001b[0m\u001b[1;33m)\u001b[0m\u001b[1;33m\u001b[0m\u001b[0m\n\u001b[0m\u001b[0;32m    119\u001b[0m         \u001b[0mh_trace\u001b[0m\u001b[1;33m.\u001b[0m\u001b[0mSetHvalue\u001b[0m\u001b[1;33m(\u001b[0m\u001b[1;34m'delta'\u001b[0m\u001b[1;33m,\u001b[0m \u001b[1;36m1\u001b[0m\u001b[1;33m)\u001b[0m\u001b[1;33m\u001b[0m\u001b[0m\n\u001b[0;32m    120\u001b[0m         \u001b[0mh_trace\u001b[0m\u001b[1;33m.\u001b[0m\u001b[0mWriteSacBinary\u001b[0m\u001b[1;33m(\u001b[0m\u001b[0mfile_name\u001b[0m\u001b[1;33m+\u001b[0m\u001b[1;34m\"-\"\u001b[0m\u001b[1;33m+\u001b[0m\u001b[0mh\u001b[0m\u001b[1;33m+\u001b[0m\u001b[1;34m\".SAC\"\u001b[0m\u001b[1;33m)\u001b[0m\u001b[1;33m\u001b[0m\u001b[0m\n",
        "\u001b[1;32m/home/matteo/Tesi/venv/local/lib/python2.7/site-packages/obspy/sac/sacio.pyc\u001b[0m in \u001b[0;36mfromarray\u001b[1;34m(self, trace, begin, delta, distkm, starttime)\u001b[0m\n\u001b[0;32m    351\u001b[0m         \"\"\"\n\u001b[0;32m    352\u001b[0m         \u001b[1;32mif\u001b[0m \u001b[1;32mnot\u001b[0m \u001b[0misinstance\u001b[0m\u001b[1;33m(\u001b[0m\u001b[0mtrace\u001b[0m\u001b[1;33m,\u001b[0m \u001b[0mnp\u001b[0m\u001b[1;33m.\u001b[0m\u001b[0mndarray\u001b[0m\u001b[1;33m)\u001b[0m\u001b[1;33m:\u001b[0m\u001b[1;33m\u001b[0m\u001b[0m\n\u001b[1;32m--> 353\u001b[1;33m             \u001b[1;32mraise\u001b[0m \u001b[0mSacError\u001b[0m\u001b[1;33m(\u001b[0m\u001b[1;34m\"input needs to be of instance numpy.ndarray\"\u001b[0m\u001b[1;33m)\u001b[0m\u001b[1;33m\u001b[0m\u001b[0m\n\u001b[0m\u001b[0;32m    354\u001b[0m         \u001b[1;32melse\u001b[0m\u001b[1;33m:\u001b[0m\u001b[1;33m\u001b[0m\u001b[0m\n\u001b[0;32m    355\u001b[0m             \u001b[1;31m# Only copy the data if they are not of the required type\u001b[0m\u001b[1;33m\u001b[0m\u001b[1;33m\u001b[0m\u001b[0m\n",
        "\u001b[1;31mSacError\u001b[0m: input needs to be of instance numpy.ndarray"
       ]
      },
      {
       "output_type": "stream",
       "stream": "stdout",
       "text": [
        " G-Laser-2013_2_16-22:59_2_16-23:1.SAC\n"
       ]
      }
     ],
     "prompt_number": 1
    },
    {
     "cell_type": "code",
     "collapsed": false,
     "input": [
      "import matplotlib as mpl\n",
      "\n",
      "#To make sure we have always the same matplotlib settings\n",
      "#(the ones in comments are the ipython notebook settings)\n",
      "mpl.rcParams['backend']=\"Agg\"    #(6.0,4.0)\n",
      "mpl.rcParams['interactive']=\"False\"               #10\n",
      "mpl.rcParams['toolbar']=\"None\"     #(6.0,4.0)\n",
      "mpl.rcParams['font.size']=10                #10\n",
      "mpl.rcParams['font.family']=\"serif\"  \n",
      "mpl.rcParams['text.usetex']=\"True\"\n",
      "mpl.rcParams['text.latex.unicode']=\"True\"\n",
      "mpl.rcParams['text.latex.preamble']= \"\\usepackage{bm}\"\n",
      "mpl.rcParams['xtick.labelsize']=10\n",
      "mpl.rcParams['ytick.labelsize']=10\n",
      "mpl.rcParams['legend.fontsize']=9 \n",
      "mpl.rcParams['savefig.dpi']=300             #72 \n",
      "mpl.rcParams['axes.hold']=\"True\"\n",
      "import warnings\n",
      "warnings.filterwarnings('ignore')\n",
      "\n"
     ],
     "language": "python",
     "metadata": {},
     "outputs": [],
     "prompt_number": 24
    },
    {
     "cell_type": "code",
     "collapsed": false,
     "input": [
      "import obspy as ob\n",
      "import datetime as dt\n",
      "\n",
      "\n",
      "UTCstart = ob.UTCDateTime( dt.datetime(day = 16, month = 2, year = 2013, hour =21 , minute = 59, second = 26, microsecond=900000) )\n",
      "UTCstop = ob.UTCDateTime( dt.datetime(day = 16, month = 2, year = 2013, hour =21 , minute = 59, second = 27, microsecond=300000) )\n",
      "tr = ob.read('G-Laser-2013_2_16-21:59_2_16-21:59.SAC', starttime=UTCstart, endtime=UTCstop)\n",
      "tr2 = ob.read('G1-Laser-2013_2_16-21:59_2_16-21:59.SAC', starttime=UTCstart, endtime=UTCstop)\n",
      "#tr.plot()\n"
     ],
     "language": "python",
     "metadata": {},
     "outputs": [],
     "prompt_number": 25
    },
    {
     "cell_type": "code",
     "collapsed": false,
     "input": [
      "pylab.figure(figsize=(4.46,3.14), frameon=False)\n",
      "#yprops = dict(rotation=0, horizontalalignment='right', verticalalignment='center', x=-0.01)\n",
      "#axprops = dict(yticks=[])\n",
      "\n",
      "pylab.axes([0.17, 0.17, 0.75, 0.75])\n",
      "pylab.plot(tr[0].times(),tr[0].data,'-g',label=r\"$extra\\_ points=1000$\")\n",
      "pylab.plot(tr[0].times(),tr2[0].data,'-r',label=r\"$extra\\_ points=0$\")\n",
      "pylab.axvline(0.1, color='#000000', linewidth=1, ls=':')\n",
      "pylab.xlim(tr[0].times().min(), tr[0].times().max())\n",
      "pylab.ylim(-0.9e-5,1e-4)\n",
      "pylab.ticklabel_format(axis='y',style='sci',scilimits=(0,0))\n",
      "pylab.ylabel(r\"Velocit\\'a \\ di\\ rotazione\\ $(rad/s)$\")\n",
      "pylab.xlabel(r\"Tempo $(s)$\")\n",
      "pylab.legend(loc=7)\n",
      "pylab.savefig(\"plot.png\", dpi=300)"
     ],
     "language": "python",
     "metadata": {},
     "outputs": [],
     "prompt_number": 23
    },
    {
     "cell_type": "code",
     "collapsed": false,
     "input": [
      "header, data, start_data, found = unisci.read_gyro_file(start, data_folder, header_lenght =202, channel_array = np.array([5000,5000,5000,5000]))"
     ],
     "language": "python",
     "metadata": {},
     "outputs": [
      {
       "ename": "NameError",
       "evalue": "name 'unisci' is not defined",
       "output_type": "pyerr",
       "traceback": [
        "\u001b[0;31m---------------------------------------------------------------------------\u001b[0m\n\u001b[0;31mNameError\u001b[0m                                 Traceback (most recent call last)",
        "\u001b[0;32m<ipython-input-52-b5e7b2afa1cc>\u001b[0m in \u001b[0;36m<module>\u001b[0;34m()\u001b[0m\n\u001b[0;32m----> 1\u001b[0;31m \u001b[0mheader\u001b[0m\u001b[0;34m,\u001b[0m \u001b[0mdata\u001b[0m\u001b[0;34m,\u001b[0m \u001b[0mstart_data\u001b[0m\u001b[0;34m,\u001b[0m \u001b[0mfound\u001b[0m \u001b[0;34m=\u001b[0m \u001b[0munisci\u001b[0m\u001b[0;34m.\u001b[0m\u001b[0mread_gyro_file\u001b[0m\u001b[0;34m(\u001b[0m\u001b[0mstart\u001b[0m\u001b[0;34m,\u001b[0m \u001b[0mdata_folder\u001b[0m\u001b[0;34m,\u001b[0m \u001b[0mheader_lenght\u001b[0m \u001b[0;34m=\u001b[0m\u001b[0;36m202\u001b[0m\u001b[0;34m,\u001b[0m \u001b[0mchannel_array\u001b[0m \u001b[0;34m=\u001b[0m \u001b[0mnp\u001b[0m\u001b[0;34m.\u001b[0m\u001b[0marray\u001b[0m\u001b[0;34m(\u001b[0m\u001b[0;34m[\u001b[0m\u001b[0;36m5000\u001b[0m\u001b[0;34m,\u001b[0m\u001b[0;36m5000\u001b[0m\u001b[0;34m,\u001b[0m\u001b[0;36m5000\u001b[0m\u001b[0;34m,\u001b[0m\u001b[0;36m5000\u001b[0m\u001b[0;34m]\u001b[0m\u001b[0;34m)\u001b[0m\u001b[0;34m)\u001b[0m\u001b[0;34m\u001b[0m\u001b[0m\n\u001b[0m",
        "\u001b[0;31mNameError\u001b[0m: name 'unisci' is not defined"
       ]
      }
     ],
     "prompt_number": 52
    },
    {
     "cell_type": "code",
     "collapsed": false,
     "input": [
      "pylab.plot(data[0][0:5000])\n",
      "pylab.plot(data[1][0:5000])"
     ],
     "language": "python",
     "metadata": {},
     "outputs": [
      {
       "ename": "NameError",
       "evalue": "name 'data' is not defined",
       "output_type": "pyerr",
       "traceback": [
        "\u001b[0;31m---------------------------------------------------------------------------\u001b[0m\n\u001b[0;31mNameError\u001b[0m                                 Traceback (most recent call last)",
        "\u001b[0;32m<ipython-input-53-af84750db99f>\u001b[0m in \u001b[0;36m<module>\u001b[0;34m()\u001b[0m\n\u001b[0;32m----> 1\u001b[0;31m \u001b[0mpylab\u001b[0m\u001b[0;34m.\u001b[0m\u001b[0mplot\u001b[0m\u001b[0;34m(\u001b[0m\u001b[0mdata\u001b[0m\u001b[0;34m[\u001b[0m\u001b[0;36m0\u001b[0m\u001b[0;34m]\u001b[0m\u001b[0;34m[\u001b[0m\u001b[0;36m0\u001b[0m\u001b[0;34m:\u001b[0m\u001b[0;36m5000\u001b[0m\u001b[0;34m]\u001b[0m\u001b[0;34m)\u001b[0m\u001b[0;34m\u001b[0m\u001b[0m\n\u001b[0m\u001b[1;32m      2\u001b[0m \u001b[0mpylab\u001b[0m\u001b[0;34m.\u001b[0m\u001b[0mplot\u001b[0m\u001b[0;34m(\u001b[0m\u001b[0mdata\u001b[0m\u001b[0;34m[\u001b[0m\u001b[0;36m1\u001b[0m\u001b[0;34m]\u001b[0m\u001b[0;34m[\u001b[0m\u001b[0;36m0\u001b[0m\u001b[0;34m:\u001b[0m\u001b[0;36m5000\u001b[0m\u001b[0;34m]\u001b[0m\u001b[0;34m)\u001b[0m\u001b[0;34m\u001b[0m\u001b[0m\n",
        "\u001b[0;31mNameError\u001b[0m: name 'data' is not defined"
       ]
      }
     ],
     "prompt_number": 53
    },
    {
     "cell_type": "code",
     "collapsed": false,
     "input": [
      "pylab.show()"
     ],
     "language": "python",
     "metadata": {},
     "outputs": [],
     "prompt_number": 9
    },
    {
     "cell_type": "code",
     "collapsed": false,
     "input": [],
     "language": "python",
     "metadata": {},
     "outputs": []
    }
   ],
   "metadata": {}
  }
 ]
}