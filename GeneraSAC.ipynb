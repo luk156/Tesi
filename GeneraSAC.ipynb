{
 "metadata": {
  "name": "GeneraSAC"
 },
 "nbformat": 3,
 "nbformat_minor": 0,
 "worksheets": [
  {
   "cells": [
    {
     "cell_type": "code",
     "collapsed": false,
     "input": [
      "\n",
      "import datetime as dt\n",
      "import unisci\n",
      "\n",
      "data_folder = \"/home/matteo/Tesi-data/glaser-data/\"\n",
      "\n",
      "start = dt.datetime(day = 16, month = 2, year = 2013, hour = 22, minute = 59, second = 0 )\n",
      "stop = dt.datetime(day = 16, month = 2, year = 2013, hour =23 , minute = 1, second = 0)\n",
      "\n",
      "f=unisci.generate_sac(start, stop, data_folder)"
     ],
     "language": "python",
     "metadata": {},
     "outputs": [
      {
       "output_type": "stream",
       "stream": "stdout",
       "text": [
        "open /home/matteo/Tesi-data/glaser-data/2013/2/16/data21.dat\n",
        "il file contiene "
       ]
      },
      {
       "output_type": "stream",
       "stream": "stdout",
       "text": [
        " 3600  secondi\n",
        "dalle ore:  2013-02-16 20:59:27 alle:  2013-02-16 21:59:27\n",
        "open"
       ]
      },
      {
       "output_type": "stream",
       "stream": "stdout",
       "text": [
        " /home/matteo/Tesi-data/glaser-data/2013/2/16/data22.dat\n",
        "il file contiene "
       ]
      },
      {
       "output_type": "stream",
       "stream": "stdout",
       "text": [
        " 3600  secondi\n",
        "dalle ore:  2013-02-16 21:59:27 alle:  2013-02-16 22:59:27\n",
        "writing "
       ]
      },
      {
       "output_type": "stream",
       "stream": "stdout",
       "text": [
        " G-Laser-2013_2_16-21:59_2_16-22:1.SAC\n"
       ]
      }
     ],
     "prompt_number": 2
    },
    {
     "cell_type": "code",
     "collapsed": false,
     "input": [
      "import matplotlib as mpl\n",
      "\n",
      "#To make sure we have always the same matplotlib settings\n",
      "#(the ones in comments are the ipython notebook settings)\n",
      "mpl.rcParams['backend']=\"Agg\"    #(6.0,4.0)\n",
      "mpl.rcParams['interactive']=\"False\"               #10\n",
      "mpl.rcParams['toolbar']=\"None\"     #(6.0,4.0)\n",
      "mpl.rcParams['font.size']=10                #10\n",
      "mpl.rcParams['font.family']=\"serif\"  \n",
      "mpl.rcParams['text.usetex']=\"True\"\n",
      "mpl.rcParams['text.latex.unicode']=\"True\"\n",
      "mpl.rcParams['text.latex.preamble']= \"\\usepackage{bm}\"\n",
      "mpl.rcParams['xtick.labelsize']=10\n",
      "mpl.rcParams['ytick.labelsize']=10\n",
      "mpl.rcParams['legend.fontsize']=9 \n",
      "mpl.rcParams['savefig.dpi']=300             #72 \n",
      "mpl.rcParams['axes.hold']=\"True\"\n",
      "import warnings\n",
      "warnings.filterwarnings('ignore')\n",
      "\n"
     ],
     "language": "python",
     "metadata": {},
     "outputs": [],
     "prompt_number": 24
    },
    {
     "cell_type": "code",
     "collapsed": false,
     "input": [
      "import obspy as ob\n",
      "import datetime as dt\n",
      "\n",
      "\n",
      "UTCstart = ob.UTCDateTime( dt.datetime(day = 16, month = 2, year = 2013, hour =21 , minute = 59, second = 26, microsecond=900000) )\n",
      "UTCstop = ob.UTCDateTime( dt.datetime(day = 16, month = 2, year = 2013, hour =21 , minute = 59, second = 27, microsecond=300000) )\n",
      "tr = ob.read('G-Laser-2013_2_16-21:59_2_16-21:59.SAC', starttime=UTCstart, endtime=UTCstop)\n",
      "tr2 = ob.read('G1-Laser-2013_2_16-21:59_2_16-21:59.SAC', starttime=UTCstart, endtime=UTCstop)\n",
      "#tr.plot()\n"
     ],
     "language": "python",
     "metadata": {},
     "outputs": [],
     "prompt_number": 25
    },
    {
     "cell_type": "code",
     "collapsed": false,
     "input": [
      "pylab.figure(figsize=(4.46,3.14), frameon=False)\n",
      "#yprops = dict(rotation=0, horizontalalignment='right', verticalalignment='center', x=-0.01)\n",
      "#axprops = dict(yticks=[])\n",
      "\n",
      "pylab.axes([0.17, 0.17, 0.75, 0.75])\n",
      "pylab.plot(tr[0].times(),tr[0].data,'-g',label=r\"$extra\\_ points=1000$\")\n",
      "pylab.plot(tr[0].times(),tr2[0].data,'-r',label=r\"$extra\\_ points=0$\")\n",
      "pylab.axvline(0.1, color='#000000', linewidth=1, ls=':')\n",
      "pylab.xlim(tr[0].times().min(), tr[0].times().max())\n",
      "pylab.ylim(-0.9e-5,1e-4)\n",
      "pylab.ticklabel_format(axis='y',style='sci',scilimits=(0,0))\n",
      "pylab.ylabel(r\"Velocit\\'a \\ di\\ rotazione\\ $(rad/s)$\")\n",
      "pylab.xlabel(r\"Tempo $(s)$\")\n",
      "pylab.legend(loc=7)\n",
      "pylab.savefig(\"plot.png\", dpi=300)"
     ],
     "language": "python",
     "metadata": {},
     "outputs": [],
     "prompt_number": 23
    },
    {
     "cell_type": "code",
     "collapsed": false,
     "input": [
      "header, data, start_data, found = unisci.read_gyro_file(start, data_folder, header_lenght =202, channel_array = np.array([5000,5000,5000,5000]))"
     ],
     "language": "python",
     "metadata": {},
     "outputs": [
      {
       "ename": "NameError",
       "evalue": "name 'unisci' is not defined",
       "output_type": "pyerr",
       "traceback": [
        "\u001b[0;31m---------------------------------------------------------------------------\u001b[0m\n\u001b[0;31mNameError\u001b[0m                                 Traceback (most recent call last)",
        "\u001b[0;32m<ipython-input-52-b5e7b2afa1cc>\u001b[0m in \u001b[0;36m<module>\u001b[0;34m()\u001b[0m\n\u001b[0;32m----> 1\u001b[0;31m \u001b[0mheader\u001b[0m\u001b[0;34m,\u001b[0m \u001b[0mdata\u001b[0m\u001b[0;34m,\u001b[0m \u001b[0mstart_data\u001b[0m\u001b[0;34m,\u001b[0m \u001b[0mfound\u001b[0m \u001b[0;34m=\u001b[0m \u001b[0munisci\u001b[0m\u001b[0;34m.\u001b[0m\u001b[0mread_gyro_file\u001b[0m\u001b[0;34m(\u001b[0m\u001b[0mstart\u001b[0m\u001b[0;34m,\u001b[0m \u001b[0mdata_folder\u001b[0m\u001b[0;34m,\u001b[0m \u001b[0mheader_lenght\u001b[0m \u001b[0;34m=\u001b[0m\u001b[0;36m202\u001b[0m\u001b[0;34m,\u001b[0m \u001b[0mchannel_array\u001b[0m \u001b[0;34m=\u001b[0m \u001b[0mnp\u001b[0m\u001b[0;34m.\u001b[0m\u001b[0marray\u001b[0m\u001b[0;34m(\u001b[0m\u001b[0;34m[\u001b[0m\u001b[0;36m5000\u001b[0m\u001b[0;34m,\u001b[0m\u001b[0;36m5000\u001b[0m\u001b[0;34m,\u001b[0m\u001b[0;36m5000\u001b[0m\u001b[0;34m,\u001b[0m\u001b[0;36m5000\u001b[0m\u001b[0;34m]\u001b[0m\u001b[0;34m)\u001b[0m\u001b[0;34m)\u001b[0m\u001b[0;34m\u001b[0m\u001b[0m\n\u001b[0m",
        "\u001b[0;31mNameError\u001b[0m: name 'unisci' is not defined"
       ]
      }
     ],
     "prompt_number": 52
    },
    {
     "cell_type": "code",
     "collapsed": false,
     "input": [
      "pylab.plot(data[0][0:5000])\n",
      "pylab.plot(data[1][0:5000])"
     ],
     "language": "python",
     "metadata": {},
     "outputs": [
      {
       "ename": "NameError",
       "evalue": "name 'data' is not defined",
       "output_type": "pyerr",
       "traceback": [
        "\u001b[0;31m---------------------------------------------------------------------------\u001b[0m\n\u001b[0;31mNameError\u001b[0m                                 Traceback (most recent call last)",
        "\u001b[0;32m<ipython-input-53-af84750db99f>\u001b[0m in \u001b[0;36m<module>\u001b[0;34m()\u001b[0m\n\u001b[0;32m----> 1\u001b[0;31m \u001b[0mpylab\u001b[0m\u001b[0;34m.\u001b[0m\u001b[0mplot\u001b[0m\u001b[0;34m(\u001b[0m\u001b[0mdata\u001b[0m\u001b[0;34m[\u001b[0m\u001b[0;36m0\u001b[0m\u001b[0;34m]\u001b[0m\u001b[0;34m[\u001b[0m\u001b[0;36m0\u001b[0m\u001b[0;34m:\u001b[0m\u001b[0;36m5000\u001b[0m\u001b[0;34m]\u001b[0m\u001b[0;34m)\u001b[0m\u001b[0;34m\u001b[0m\u001b[0m\n\u001b[0m\u001b[1;32m      2\u001b[0m \u001b[0mpylab\u001b[0m\u001b[0;34m.\u001b[0m\u001b[0mplot\u001b[0m\u001b[0;34m(\u001b[0m\u001b[0mdata\u001b[0m\u001b[0;34m[\u001b[0m\u001b[0;36m1\u001b[0m\u001b[0;34m]\u001b[0m\u001b[0;34m[\u001b[0m\u001b[0;36m0\u001b[0m\u001b[0;34m:\u001b[0m\u001b[0;36m5000\u001b[0m\u001b[0;34m]\u001b[0m\u001b[0;34m)\u001b[0m\u001b[0;34m\u001b[0m\u001b[0m\n",
        "\u001b[0;31mNameError\u001b[0m: name 'data' is not defined"
       ]
      }
     ],
     "prompt_number": 53
    },
    {
     "cell_type": "code",
     "collapsed": false,
     "input": [
      "pylab.show()"
     ],
     "language": "python",
     "metadata": {},
     "outputs": [],
     "prompt_number": 9
    },
    {
     "cell_type": "code",
     "collapsed": false,
     "input": [],
     "language": "python",
     "metadata": {},
     "outputs": []
    }
   ],
   "metadata": {}
  }
 ]
}