{
 "metadata": {
  "name": "GeneraSAC"
 },
 "nbformat": 3,
 "nbformat_minor": 0,
 "worksheets": [
  {
   "cells": [
    {
     "cell_type": "code",
     "collapsed": false,
     "input": [
      "import os\n",
      "import obspy as ob\n",
      "import numpy as np\n",
      "from scipy import signal,io,fftpack\n",
      "from obspy import signal, sac\n",
      "import datetime as dt\n",
      "import unisci\n",
      "\n",
      "data_folder = \"/home/matteo/Tesi-data/glaser-data/\"\n",
      "\n",
      "start = dt.datetime(day = 16, month = 2, year = 2013, hour = 21, minute = 10, second = 0 )\n",
      "stop = dt.datetime(day = 16, month = 2, year = 2013, hour =22 , minute = 0, second = 0)\n",
      "\n",
      "unisci.generate_sac(start, stop, data_folder)"
     ],
     "language": "python",
     "metadata": {},
     "outputs": [
      {
       "output_type": "stream",
       "stream": "stdout",
       "text": [
        "open /home/matteo/Tesi-data/glaser-data/2013/2/16/data21.dat\n",
        "il file contiene "
       ]
      },
      {
       "output_type": "stream",
       "stream": "stdout",
       "text": [
        " 3600  secondi\n",
        "open"
       ]
      },
      {
       "output_type": "stream",
       "stream": "stdout",
       "text": [
        " /home/matteo/Tesi-data/glaser-data/2013/2/16/data22.dat\n",
        "il file contiene "
       ]
      },
      {
       "output_type": "stream",
       "stream": "stdout",
       "text": [
        " 3600  secondi\n",
        "(296700,)"
       ]
      },
      {
       "output_type": "stream",
       "stream": "stdout",
       "text": [
        "\n",
        "writing  G-Laser-2013_2_16-21:10_22:0.SAC\n"
       ]
      },
      {
       "output_type": "pyout",
       "prompt_number": 52,
       "text": [
        "True"
       ]
      }
     ],
     "prompt_number": 52
    },
    {
     "cell_type": "code",
     "collapsed": false,
     "input": [
      "reload(unisci)"
     ],
     "language": "python",
     "metadata": {},
     "outputs": [
      {
       "output_type": "pyout",
       "prompt_number": 46,
       "text": [
        "<module 'unisci' from 'unisci.py'>"
       ]
      }
     ],
     "prompt_number": 46
    },
    {
     "cell_type": "code",
     "collapsed": false,
     "input": [
      "tr = ob.read('G-Laser-2013_2_16-9:0_9:30.SAC')\n",
      "tr.plot()"
     ],
     "language": "python",
     "metadata": {},
     "outputs": [],
     "prompt_number": 49
    },
    {
     "cell_type": "code",
     "collapsed": false,
     "input": [],
     "language": "python",
     "metadata": {},
     "outputs": []
    }
   ],
   "metadata": {}
  }
 ]
}