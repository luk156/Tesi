{
 "metadata": {
  "name": ""
 },
 "nbformat": 3,
 "nbformat_minor": 0,
 "worksheets": [
  {
   "cells": [
    {
     "cell_type": "code",
     "collapsed": false,
     "input": [
      "import numpy as np"
     ],
     "language": "python",
     "metadata": {},
     "outputs": [],
     "prompt_number": 1
    },
    {
     "cell_type": "code",
     "collapsed": false,
     "input": [
      "import matplotlib as mpl\n",
      "\n",
      "#To make sure we have always the same matplotlib settings\n",
      "#(the ones in comments are the ipython notebook settings)\n",
      "mpl.rcParams['backend']=\"Agg\"    #(6.0,4.0)\n",
      "mpl.rcParams['interactive']=\"False\"               #10\n",
      "mpl.rcParams['toolbar']=\"None\"     #(6.0,4.0)\n",
      "mpl.rcParams['font.size']=8                #10\n",
      "mpl.rcParams['font.family']=\"serif\"  \n",
      "mpl.rcParams['text.usetex']=\"True\"\n",
      "mpl.rcParams['text.latex.unicode']=\"True\"\n",
      "mpl.rcParams['text.latex.preamble']= \"\\usepackage{bm}\"\n",
      "mpl.rcParams['xtick.labelsize']=10\n",
      "mpl.rcParams['ytick.labelsize']=10\n",
      "mpl.rcParams['legend.fontsize']=9 \n",
      "mpl.rcParams['savefig.dpi']=300             #72 \n",
      "mpl.rcParams['axes.hold']=\"True\"\n",
      "import warnings\n",
      "warnings.filterwarnings('ignore')"
     ],
     "language": "python",
     "metadata": {},
     "outputs": [],
     "prompt_number": 2
    },
    {
     "cell_type": "code",
     "collapsed": false,
     "input": [
      "a=np.linspace(-5,5,1000)"
     ],
     "language": "python",
     "metadata": {},
     "outputs": [],
     "prompt_number": 16
    },
    {
     "cell_type": "code",
     "collapsed": false,
     "input": [
      "y=a\n",
      "pylab.figure(figsize=(4.46,3.14), frameon=False)\n",
      "#yprops = dict(rotation=0, horizontalalignment='right', verticalalignment='center', x=-0.01)\n",
      "#axprops = dict(yticks=[])\n",
      "pylab.subplot(2,2,1)\n",
      "pylab.plot(a,y,'g')\n",
      "#pylab.axes([0.17, 0.17, 0.75, 0.75])\n",
      "ax = pylab.gca()  # gca stands for 'get current axis'\n",
      "ax.spines['right'].set_color('none')\n",
      "ax.spines['top'].set_color('none')\n",
      "ax.xaxis.set_ticks_position('bottom')\n",
      "ax.spines['bottom'].set_position(('data',0))\n",
      "ax.yaxis.set_ticks_position('left')\n",
      "ax.spines['left'].set_position(('data',0))\n",
      "ax.xaxis.set_ticklabels([])\n",
      "ax.axes.yaxis.set_ticklabels([])\n",
      "ax.yaxis.set_label_position(\"right\")\n",
      "ax.text(5, -1.2\n",
      ", r\"$\\Omega $\", ha='left', rotation=0)\n",
      "ax.text(0.5, 5, r\"$\\Delta \\nu$\", ha='left', rotation=0)\n",
      "pylab.title(r\"Risposta ideale\")\n",
      "\n",
      "pylab.subplot(2,2,2)\n",
      "pylab.plot(a,y,'--')\n",
      "pylab.plot(a,y-1,'r')\n",
      "#pylab.axes([0.17, 0.17, 0.75, 0.75])\n",
      "ax = pylab.gca()  # gca stands for 'get current axis'\n",
      "ax.spines['right'].set_color('none')\n",
      "ax.spines['top'].set_color('none')\n",
      "ax.xaxis.set_ticks_position('bottom')\n",
      "ax.spines['bottom'].set_position(('data',0))\n",
      "ax.yaxis.set_ticks_position('left')\n",
      "ax.spines['left'].set_position(('data',0))\n",
      "ax.xaxis.set_ticklabels([])\n",
      "ax.axes.yaxis.set_ticklabels([])\n",
      "ax.yaxis.set_label_position(\"right\")\n",
      "ax.text(5, -1.2, r\"$\\Omega $\", ha='left', rotation=0)\n",
      "ax.text(0.5, 5, r\"$\\Delta \\nu$\", ha='left', rotation=0)\n",
      "pylab.title(r\"Effetto del Null-shift \")\n",
      "\n",
      "pylab.subplot(2,2,3)\n",
      "\n",
      "pylab.plot(a,y,'--')\n",
      "a1=np.linspace(1,5,1000)\n",
      "pylab.plot(a1,np.sqrt(a1**2-1),'r')\n",
      "a1=np.linspace(-5,-1,1000)\n",
      "pylab.plot(a1,-np.sqrt(a1**2-1),'r')\n",
      "#pylab.axes([0.17, 0.17, 0.75, 0.75])\n",
      "ax = pylab.gca()  # gca stands for 'get current axis'\n",
      "ax.spines['right'].set_color('none')\n",
      "ax.spines['top'].set_color('none')\n",
      "ax.xaxis.set_ticks_position('bottom')\n",
      "ax.spines['bottom'].set_position(('data',0))\n",
      "ax.yaxis.set_ticks_position('left')\n",
      "ax.spines['left'].set_position(('data',0))\n",
      "ax.xaxis.set_ticklabels([])\n",
      "ax.axes.yaxis.set_ticklabels([])\n",
      "ax.yaxis.set_label_position(\"right\")\n",
      "ax.text(5, -1.2, r\"$\\Omega $\", ha='left', rotation=0)\n",
      "ax.text(0.5, 5, r\"$\\Delta \\nu$\", ha='left', rotation=0)\n",
      "pylab.title(r\"Effetto del BackScattering \")\n",
      "\n",
      "pylab.subplot(2,2,4)\n",
      "pylab.plot(a,y,'--')\n",
      "pylab.plot(a,0.7*y,'r')\n",
      "#pylab.axes([0.17, 0.17, 0.75, 0.75])\n",
      "ax = pylab.gca()  # gca stands for 'get current axis'\n",
      "ax.spines['right'].set_color('none')\n",
      "ax.spines['top'].set_color('none')\n",
      "ax.xaxis.set_ticks_position('bottom')\n",
      "ax.spines['bottom'].set_position(('data',0))\n",
      "ax.yaxis.set_ticks_position('left')\n",
      "ax.spines['left'].set_position(('data',0))\n",
      "ax.xaxis.set_ticklabels([])\n",
      "ax.axes.yaxis.set_ticklabels([])\n",
      "ax.yaxis.set_label_position(\"right\")\n",
      "ax.text(5, -1.2, r\"$\\Omega $\", ha='left', rotation=0)\n",
      "ax.text(0.5, 5, r\"$\\Delta \\nu$\", ha='left', rotation=0)\n",
      "pylab.title(r\"Variazione fattore scala\")\n",
      "\n",
      "pylab.savefig(\"plot.png\", dpi=300)\n"
     ],
     "language": "python",
     "metadata": {},
     "outputs": [],
     "prompt_number": 18
    },
    {
     "cell_type": "code",
     "collapsed": false,
     "input": [],
     "language": "python",
     "metadata": {},
     "outputs": [],
     "prompt_number": 9
    },
    {
     "cell_type": "code",
     "collapsed": false,
     "input": [
      "x=np.linspace(1,10000,1000000)"
     ],
     "language": "python",
     "metadata": {},
     "outputs": [],
     "prompt_number": 37
    },
    {
     "cell_type": "code",
     "collapsed": false,
     "input": [
      "y=sin(100*x)+4*sin(27*x+6)\n",
      "y2=sin(100*x+10)+4*sin(20*x+6)"
     ],
     "language": "python",
     "metadata": {},
     "outputs": [],
     "prompt_number": 64
    },
    {
     "cell_type": "code",
     "collapsed": false,
     "input": [
      "a,b=matplotlib.mlab.cohere(y, y2, Fs=1)\n",
      "c,d=matplotlib.mlab.psd(y, Fs=1)"
     ],
     "language": "python",
     "metadata": {},
     "outputs": [],
     "prompt_number": 65
    },
    {
     "cell_type": "code",
     "collapsed": false,
     "input": [
      "pylab.plot(b,a)"
     ],
     "language": "python",
     "metadata": {},
     "outputs": [
      {
       "output_type": "pyout",
       "prompt_number": 67,
       "text": [
        "[<matplotlib.lines.Line2D at 0x9fe2910>]"
       ]
      },
      {
       "output_type": "display_data",
       "png": "[encoded data removed]"
      }
     ],
     "prompt_number": 67
    },
    {
     "cell_type": "code",
     "collapsed": false,
     "input": [
      "pylab.plot(x,y)"
     ],
     "language": "python",
     "metadata": {},
     "outputs": [
      {
       "output_type": "pyout",
       "prompt_number": 41,
       "text": [
        "[<matplotlib.lines.Line2D at 0x620b810>]"
       ]
      },
      {
       "output_type": "display_data",
       "png": "[encoded data removed]"
      }
     ],
     "prompt_number": 41
    },
    {
     "cell_type": "code",
     "collapsed": false,
     "input": [],
     "language": "python",
     "metadata": {},
     "outputs": []
    }
   ],
   "metadata": {}
  }
 ]
}