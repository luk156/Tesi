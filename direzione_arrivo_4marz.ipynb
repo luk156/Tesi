{
 "metadata": {
  "name": "direzione_arrivo_4marz"
 },
 "nbformat": 3,
 "nbformat_minor": 0,
 "worksheets": [
  {
   "cells": [
    {
     "cell_type": "heading",
     "level": 3,
     "metadata": {},
     "source": [
      "parametri per la stampa dei grafici"
     ]
    },
    {
     "cell_type": "code",
     "collapsed": false,
     "input": [
      "import matplotlib as mpl\n",
      "\n",
      "#To make sure we have always the same matplotlib settings\n",
      "#(the ones in comments are the ipython notebook settings)\n",
      "\n",
      "mpl.rcParams['figure.figsize']=(7.0,5.0)    #(6.0,4.0)\n",
      "mpl.rcParams['font.size']=7                #10 \n",
      "mpl.rcParams['savefig.dpi']=150             #72 \n",
      "mpl.rcParams['figure.subplot.bottom']=.1\n",
      "import warnings\n",
      "warnings.filterwarnings('ignore')"
     ],
     "language": "python",
     "metadata": {},
     "outputs": [],
     "prompt_number": 1
    },
    {
     "cell_type": "code",
     "collapsed": false,
     "input": [
      "import matplotlib as mpl\n",
      "\n",
      "\n",
      "\n",
      "#To make sure we have always the same matplotlib settings\n",
      "#(the ones in comments are the ipython notebook settings)\n",
      "mpl.rcParams['backend']=\"Cairo\"    #(6.0,4.0)\n",
      "mpl.rcParams['interactive']=\"False\"               #10\n",
      "mpl.rcParams['toolbar']=\"None\"     #(6.0,4.0)\n",
      "mpl.rcParams['font.size']=10                #10\n",
      "mpl.rcParams['font.family']=\"serif\"  \n",
      "mpl.rcParams['text.usetex']=\"True\"\n",
      "mpl.rcParams['text.latex.unicode']=\"True\"\n",
      "mpl.rcParams['text.latex.preamble']= \"\\usepackage{bm}\"\n",
      "mpl.rcParams['xtick.labelsize']=10\n",
      "mpl.rcParams['ytick.labelsize']=10\n",
      "mpl.rcParams['legend.fontsize']=9 \n",
      "mpl.rcParams['savefig.dpi']=300             #72 \n",
      "mpl.rcParams['axes.hold']=\"True\"\n",
      "import warnings\n",
      "warnings.filterwarnings('ignore')"
     ],
     "language": "python",
     "metadata": {},
     "outputs": [],
     "prompt_number": 1
    },
    {
     "cell_type": "heading",
     "level": 3,
     "metadata": {},
     "source": [
      "lettura dei dati"
     ]
    },
    {
     "cell_type": "code",
     "collapsed": false,
     "input": [
      "\n",
      "\n",
      "import obspy as ob\n",
      "from obspy import signal, sac\n",
      "import datetime as dt\n",
      "import sismo\n",
      "import numpy as np\n",
      "\n",
      "#laser_data_folder = \"/home/matteo/Tesi-data/glaser-data/\"\n",
      "sismo_data_folder = \"/home/matteo/Tesi/Tesi-data/sismometro/\"\n",
      "\n",
      "UTCstart = ob.UTCDateTime( dt.datetime(day = 4, month = 3, year = 2013, hour =3 , minute = 49, second = 30) )\n",
      "UTCstop = ob.UTCDateTime( dt.datetime(day = 4, month = 3, year = 2013, hour =3 , minute = 59, second = 30) )\n",
      "# i dati del sismometro sono gi\u00e0 filtrati a 20 Hz\n",
      "st=sismo.read_sismo_stream3( sismo_data_folder, starttime=UTCstart, endtime=UTCstop)\n",
      "st.detrend(type='linear')\n",
      "st.differentiate()\n",
      "\n",
      "tr = ob.read('G-Laser-2013_3_3-21:0_3_4-5:0.SAC', starttime=UTCstart, endtime=UTCstop)\n",
      "tr.detrend(type='linear')\n",
      "# i dati del giroscopio sono a 100 Hertz quindi li decimo per uniformarli\n",
      "tr.decimate(2)\n",
      "tr.filter('highpass',freq=1/120.0, zerophase=1, corners=2)\n",
      "# aggiungo la traccia del giroscopio a quelle del sismometro\n",
      "st+=tr"
     ],
     "language": "python",
     "metadata": {},
     "outputs": [
      {
       "output_type": "stream",
       "stream": "stdout",
       "text": [
        "open /home/matteo/Tesi/Tesi-data/sismometro/2013.03.04-00.00.00.A295.*.SAC.resamp\n",
        "3 Trace(s) in Stream:\n",
        ".A295..1 | 2013-03-04T03:49:29.995000Z - 2013-03-04T03:59:29.995000Z | 50.0 Hz, 30001 samples\n",
        ".A295..2 | 2013-03-04T03:49:29.995000Z - 2013-03-04T03:59:29.995000Z | 50.0 Hz, 30001 samples\n",
        ".A295..3 | 2013-03-04T03:49:29.995000Z - 2013-03-04T03:59:29.995000Z | 50.0 Hz, 30001 samples"
       ]
      },
      {
       "output_type": "stream",
       "stream": "stdout",
       "text": [
        "\n",
        "open /home/matteo/Tesi/Tesi-data/sismometro/2013.03.05-00.00.00.A295.*.SAC.resamp\n",
        "30001"
       ]
      },
      {
       "output_type": "stream",
       "stream": "stdout",
       "text": [
        "\n",
        "3 Trace(s) in Stream:\n",
        ".A295..1 | 2013-03-04T03:49:29.995000Z - 2013-03-04T03:59:29.995000Z | 50.0 Hz, 30001 samples\n",
        ".A295..2 | 2013-03-04T03:49:29.995000Z - 2013-03-04T03:59:29.995000Z | 50.0 Hz, 30001 samples\n",
        ".A295..3 | 2013-03-04T03:49:29.995000Z - 2013-03-04T03:59:29.995000Z | 50.0 Hz, 30001 samples\n"
       ]
      }
     ],
     "prompt_number": 2
    },
    {
     "cell_type": "code",
     "collapsed": false,
     "input": [
      "st[3].plot()"
     ],
     "language": "python",
     "metadata": {},
     "outputs": [],
     "prompt_number": 79
    },
    {
     "cell_type": "heading",
     "level": 3,
     "metadata": {},
     "source": [
      "Calcolo il tempo di arrivo"
     ]
    },
    {
     "cell_type": "code",
     "collapsed": false,
     "input": [
      "\n",
      "from obspy.neries import Client\n",
      "import datetime as dt\n",
      "client = Client(user='luk156')\n",
      "# richedo informazioni sull'evento selezionato\n",
      "event = client.getEventDetail(\"20130304_0000010\", 'catalog')\n",
      "o=event[0].origins[0]\n",
      "# coordinate san Piero\n",
      "locations = [(43.663832,10.351733)]\n",
      "# calcolo i tempi di arrivo\n",
      "tt=client.getTravelTimes(o.latitude, o.longitude, o.depth, locations, model='iasp91')\n",
      "tS=tt[0]['S']\n",
      "tP=tt[0]['P']\n",
      "\n",
      "P=o.time + dt.timedelta(milliseconds=tP)\n",
      "S=o.time + dt.timedelta(milliseconds=tS)\n",
      "\n",
      "x1=(P-st[2].stats.starttime)\n",
      "x2=(S-st[2].stats.starttime)\n",
      "print \"Ritardo onda P(S) rispetto all'inzio della traccia: \", x1\n",
      "print \"Ritardo onda S(S) rispetto all'inizio della traccia: \", x2\n",
      "print event"
     ],
     "language": "python",
     "metadata": {},
     "outputs": [
      {
       "output_type": "stream",
       "stream": "stdout",
       "text": [
        "Ritardo onda P(S) rispetto all'inzio della traccia:  244.837508\n",
        "Ritardo onda S(S) rispetto all'inizio della traccia:  259.320464\n",
        "1 Event(s) in Catalog:\n",
        "2013-03-04T03:53:15.000000Z | +44.037,  +11.566 | 3.4 ML | manual\n"
       ]
      }
     ],
     "prompt_number": 3
    },
    {
     "cell_type": "code",
     "collapsed": false,
     "input": [
      "UTCstart = ob.UTCDateTime( dt.datetime(day = 4, month = 3, year = 2013, hour =3 , minute = 5, second = 0) )\n",
      "UTCstop = ob.UTCDateTime( dt.datetime(day = 4, month = 3, year = 2013, hour =3 , minute = 40, second = 0) )\n",
      "tr_r = ob.read('G-Laser-2013_3_3-21:0_3_4-5:0.SAC', starttime=UTCstart, endtime=UTCstop)\n",
      "tr_r.detrend(type='linear')\n",
      "# i dati del giroscopio sono a 100 Hertz quindi li decimo per uniformarli\n",
      "tr_r.decimate(2)\n",
      "tr_r.filter('highpass',freq=1/120.0, zerophase=1, corners=2)\n",
      "\n",
      "st_r=sismo.read_sismo_stream3(sismo_data_folder, starttime=UTCstart, endtime=UTCstop)\n",
      "st_r.detrend(type='linear')\n",
      "#st.simulate(paz_remove=sts2)\n",
      "st_r.differentiate()"
     ],
     "language": "python",
     "metadata": {},
     "outputs": [
      {
       "output_type": "stream",
       "stream": "stdout",
       "text": [
        "open /home/matteo/Tesi/Tesi-data/sismometro/2013.03.04-00.00.00.A295.*.SAC.resamp\n",
        "3 Trace(s) in Stream:\n",
        ".A295..1 | 2013-03-04T03:04:59.995000Z - 2013-03-04T03:39:59.995000Z | 50.0 Hz, 105001 samples\n",
        ".A295..2 | 2013-03-04T03:04:59.995000Z - 2013-03-04T03:39:59.995000Z | 50.0 Hz, 105001 samples\n",
        ".A295..3 | 2013-03-04T03:04:59.995000Z - 2013-03-04T03:39:59.995000Z | 50.0 Hz, 105001 samples\n",
        "open /home/matteo/Tesi/Tesi-data/sismometro/2013.03.05-00.00.00.A295.*.SAC.resamp\n",
        "105001"
       ]
      },
      {
       "output_type": "stream",
       "stream": "stdout",
       "text": [
        "\n",
        "3 Trace(s) in Stream:\n",
        ".A295..1 | 2013-03-04T03:04:59.995000Z - 2013-03-04T03:39:59.995000Z | 50.0 Hz, 105001 samples\n",
        ".A295..2 | 2013-03-04T03:04:59.995000Z - 2013-03-04T03:39:59.995000Z | 50.0 Hz, 105001 samples\n",
        ".A295..3 | 2013-03-04T03:04:59.995000Z - 2013-03-04T03:39:59.995000Z | 50.0 Hz, 105001 samples\n"
       ]
      }
     ],
     "prompt_number": 5
    },
    {
     "cell_type": "code",
     "collapsed": false,
     "input": [
      "tr_r.plot()"
     ],
     "language": "python",
     "metadata": {},
     "outputs": [],
     "prompt_number": 34
    },
    {
     "cell_type": "code",
     "collapsed": false,
     "input": [
      "st[2].stats.channel='E'\n",
      "st[1].stats.channel='N'\n",
      "st.rotate('NE->RT', back_azimuth=55)\n",
      "st_r[2].stats.channel='E'\n",
      "st_r[1].stats.channel='N'\n",
      "st_r.rotate('NE->RT', back_azimuth=55)"
     ],
     "language": "python",
     "metadata": {},
     "outputs": [],
     "prompt_number": 6
    },
    {
     "cell_type": "code",
     "collapsed": false,
     "input": [
      "st[2].stats.channel"
     ],
     "language": "python",
     "metadata": {},
     "outputs": [
      {
       "output_type": "pyout",
       "prompt_number": 85,
       "text": [
        "'T'"
       ]
      }
     ],
     "prompt_number": 85
    },
    {
     "cell_type": "code",
     "collapsed": false,
     "input": [
      "\n",
      "f, ax = plt.subplots(2, sharex=True, figsize=(4.36,6.5))\n",
      "ax[0].set_xscale(\"log\") \n",
      "ax[0].set_yscale(\"log\")\n",
      "ax[1].set_xscale(\"log\") \n",
      "ax[1].set_yscale(\"log\")\n",
      "#ax[2].set_xscale(\"log\") \n",
      "#ax[2].set_yscale(\"log\")\n",
      "\n",
      "t1=matplotlib.mlab.psd(tr[0].data[x1*50:x1*50], NFFT=3000, Fs=50, noverlap=2900, pad_to=None, sides='default', scale_by_freq=True)\n",
      "t2=matplotlib.mlab.psd(tr[0].data[x1*50:x1*50+3*60*50], NFFT=3000, Fs=50, noverlap=2900, pad_to=None, sides='default', scale_by_freq=True)\n",
      "t3=matplotlib.mlab.psd(tr_r[0].data, NFFT=3000, Fs=50, noverlap=2900, pad_to=None, sides='default', scale_by_freq=True)\n",
      "#ax[0].plot(t1[1],t1[0],'g',label=\"P-Wave\")\n",
      "ax[0].plot(t2[1],t2[0],'b',label=\"S-Wave\")\n",
      "ax[0].plot(t3[1],t3[0],'b--',label=\"Noise\")\n",
      "\n",
      "\n",
      "fr=[]\n",
      "fr2=[]\n",
      "psd=[]\n",
      "psd2=[]\n",
      "c=['r','k','g']\n",
      "canali=['Z','R','T']\n",
      "for i in range(3):\n",
      "    #t1s=matplotlib.mlab.psd(st[i].data[x1*50:x2*50], NFFT=5000, Fs=50, noverlap=0, pad_to=None, sides='default', scale_by_freq=True)\n",
      "    a,b=matplotlib.mlab.psd(st[i].data[x2*50:x2*50+3*60*50], NFFT=3000, Fs=50, noverlap=2900, pad_to=None, sides='default', scale_by_freq=True)\n",
      "    fr=np.append(fr,b)\n",
      "    psd=np.append(psd,a)\n",
      "    ax[1].plot(b,a,color=c[i],label=canali[i])\n",
      "    a,b=matplotlib.mlab.psd(st_r[i].data, NFFT=3000, Fs=50, noverlap=2900, pad_to=None, sides='default', scale_by_freq=True)\n",
      "    psd2=np.append(psd2,a)\n",
      "    ax[1].plot(b,a,'--',color=c[i])\n",
      "    \n",
      "fr=np.reshape(fr, (3,-1))\n",
      "psd=np.reshape(psd, (3,-1))\n",
      "psd2=np.reshape(psd2, (3,-1))\n",
      "\n",
      "for i in range(3):\n",
      "    n=200\n",
      "    #ax[2].plot(semplifica(fr[1][:-1000],n),semplifica(np.sqrt(psd[i][:-1000]),n)/semplifica(np.sqrt(t2[0][:-1000]),n),'r')\n",
      "    #ax[2].plot(semplifica(fr[1][:-1000],n),semplifica(np.sqrt(psd2[i][:-1000]),n)/semplifica(np.sqrt(t3[0][:-1000]),n),'k')\n",
      "ax[0].axes.set_ylim(1e-19, 1e-12)\n",
      "#ax[1].axes.ticklabel_format(style='sci', axis='y', scilimits=(0,0))\n",
      "ax[0].legend(loc=1)\n",
      "pylab.xlim(0.01, 15)\n",
      "ax[1].legend(loc=4)\n",
      "plt.subplots_adjust(left=0.15, right=0.95, top=0.9, bottom=0.1)\n",
      "f.text(0.5, 0.92, r\"Giroscopio\", horizontalalignment='center', rotation='horizontal')\n",
      "f.text(0.5, 0.49, r\"Sismometro\", horizontalalignment='center', rotation='horizontal')\n",
      "f.text(0.05, 0.3, r\"PSD $(m^2 s^{-4} Hz^{-1})$\", horizontalalignment='right', verticalalignment='center', rotation='vertical')\n",
      "f.text(0.05, 0.7, r\"PSD $(Rad^2 s^{-2} Hz^{-1})$\", horizontalalignment='right', verticalalignment='center', rotation='vertical')\n",
      "f.text(0.5, 0.05, r\"$Frequenza (Hz)$\", horizontalalignment='center', rotation='horizontal')\n",
      "pylab.setp([a.get_xticklabels() for a in f.axes[:-1]], visible=False)\n",
      "f.savefig(\"plot-psd2.png\", dpi=300)\n"
     ],
     "language": "python",
     "metadata": {},
     "outputs": [],
     "prompt_number": 6
    },
    {
     "cell_type": "code",
     "collapsed": false,
     "input": [
      "plt.figure()\n",
      "import numpy.ma as ma\n",
      "m=(fr[0] <= 0.2) | (fr[0]>=1)\n",
      "freq=ma.masked_where(m, fr[0]).compressed()\n",
      "psd_m=ma.masked_where(m, t2[0]).compressed()\n",
      "for i in range(3):\n",
      "    psd2_m=ma.masked_where(m, psd[i]).compressed()\n",
      "    r=np.sqrt(psd2_m)/np.sqrt(psd_m)\n",
      "    print str(np.mean(r))+\"+-\"+str(np.std(r))\n",
      "#plt.plot(freq,r,'o')\n",
      "\n",
      "A = array([ freq, ones(len(freq))])\n",
      "w = np.linalg.lstsq(A.T,r)[0] # obtaining the parameters\n",
      "\n",
      "# plotting the line\n",
      "line = w[0]*freq+w[1] # regression line\n",
      "plt.plot(freq,line,'r-')\n",
      "\n",
      "plt.show()"
     ],
     "language": "python",
     "metadata": {},
     "outputs": [
      {
       "output_type": "stream",
       "stream": "stdout",
       "text": [
        "675.277644647+-241.80558997\n",
        "1154.89783351+-456.344019883\n",
        "1274.05911288+-480.540544001\n"
       ]
      }
     ],
     "prompt_number": 91
    },
    {
     "cell_type": "code",
     "collapsed": false,
     "input": [
      "from scipy.ndimage import gaussian_filter1d\n",
      "plt.figure()\n",
      "import numpy.ma as ma\n",
      "m=(b <= 0.2) | (b>=1)\n",
      "freq=ma.masked_where(m, b).compressed()\n",
      "psd_m=ma.masked_where(m, t2[0]).compressed()\n",
      "sigma=3\n",
      "psd_m_i = gaussian_filter1d(psd_m, sigma)\n",
      "#psd2_m=ma.masked_where(m, psd[0]).compressed()\n",
      "c=['r','k','g']\n",
      "canali=['Z','R','T']\n",
      "for i in range(3):\n",
      "    from scipy import interpolate\n",
      "    psd2_m=ma.masked_where(m, psd[i]).compressed()\n",
      "    \n",
      "    psd2_m_i = gaussian_filter1d(psd2_m, sigma)\n",
      "   \n",
      "    r=np.sqrt(psd2_m_i)/np.sqrt(psd_m_i)\n",
      "    print str(np.mean(r))+\"+-\"+str(np.std(r))\n",
      "    plt.plot(freq,r,'o',color=c[i], label=canali[i])\n",
      "plt.legend(loc=1)\n",
      "pylab.ylabel(r\"\\sqrt{PSD(sismometro)/PSD(giroscopio)}\")\n",
      "pylab.xlabel(r\"Frequenza (Hz)\")\n",
      "plt.show()\n",
      "plt.savefig(\"plot-rapporto-psd2.png\", dpi=300)"
     ],
     "language": "python",
     "metadata": {},
     "outputs": [
      {
       "output_type": "stream",
       "stream": "stdout",
       "text": [
        "664.744494385+-101.310325491\n",
        "1105.99295908+-238.347138121\n",
        "1242.55446903+-166.014812918"
       ]
      },
      {
       "output_type": "stream",
       "stream": "stdout",
       "text": [
        "\n"
       ]
      }
     ],
     "prompt_number": 12
    },
    {
     "cell_type": "code",
     "collapsed": false,
     "input": [
      "\n"
     ],
     "language": "python",
     "metadata": {},
     "outputs": [
      {
       "ename": "TypeError",
       "evalue": "'tuple' object is not callable",
       "output_type": "pyerr",
       "traceback": [
        "\u001b[0;31m---------------------------------------------------------------------------\u001b[0m\n\u001b[0;31mTypeError\u001b[0m                                 Traceback (most recent call last)",
        "\u001b[0;32m<ipython-input-43-1c9ac70b4ff2>\u001b[0m in \u001b[0;36m<module>\u001b[0;34m()\u001b[0m\n\u001b[0;32m----> 1\u001b[0;31m \u001b[0mpsd2_m\u001b[0m\u001b[0;34m[\u001b[0m\u001b[0;36m0\u001b[0m\u001b[0;34m]\u001b[0m\u001b[0;34m.\u001b[0m\u001b[0mshape\u001b[0m\u001b[0;34m(\u001b[0m\u001b[0;34m)\u001b[0m\u001b[0;34m\u001b[0m\u001b[0m\n\u001b[0m",
        "\u001b[0;31mTypeError\u001b[0m: 'tuple' object is not callable"
       ]
      }
     ],
     "prompt_number": 43
    },
    {
     "cell_type": "heading",
     "level": 3,
     "metadata": {},
     "source": [
      "Spettogrammi del sismometro e del giroscopio"
     ]
    },
    {
     "cell_type": "code",
     "collapsed": false,
     "input": [
      "f, ax = plt.subplots(4, sharex=True, sharey=True, figsize=(4.46,10.5))\n",
      "i=0\n",
      "#plt.suptitle(r\"Spettrogrammi Sisma 4 Marzo 2013 (Mi 3.4)\" )\n",
      "for a in ax:\n",
      "    #pylab.subplot(3,1,i+1, sharex=True,)\n",
      "    #ax_HNN=a.gca()\n",
      "    cax=st[i].spectrogram(per_lap=0.90, mult=1, wlen=100, dbscale=True, show=False, log=True,axes=a, clip=([0, 1]) )\n",
      "    a.axvline(x1, color='g', linewidth=1, label=\"Arrivo onda P(teorico)\")\n",
      "    a.axvline(x2, color='r', linewidth=1, label=\"Arrivo onda S(teorico)\")\n",
      "    #pylab.ylim(0, 5)\n",
      "    #pylab.xlim(250,800)\n",
      "    #a.title(\"Spettogramma Sisma 16 Febbraio - canale \"+str(i))\n",
      "    i=i+1\n",
      "\n",
      "pylab.xlabel(r\"Tempo $(s)$\")\n",
      "ax[0].legend(loc=1)\n",
      "    #pylab.plot()\n",
      "#pylab.legend()\n",
      "f.text(0.5, 0.91, r\"Sismometro - canale Z\", horizontalalignment='center', rotation='horizontal')\n",
      "f.text(0.5, 0.70, r\"Sismometro - canale O-E\", horizontalalignment='center', rotation='horizontal')\n",
      "f.text(0.5, 0.49, r\"Sismometro - canale S-N\", horizontalalignment='center', rotation='horizontal')\n",
      "f.text(0.5, 0.285, r\"Giroscopio\", horizontalalignment='center', rotation='horizontal')\n",
      "f.text(0.04, 0.5, r\"Frequenza $(Hz)$\", horizontalalignment='right', verticalalignment='center', rotation='vertical')\n",
      "pylab.setp([a.get_xticklabels() for a in f.axes[:-1]], visible=False)\n",
      "f.savefig(\"plot-spe2.png\", dpi=300)"
     ],
     "language": "python",
     "metadata": {},
     "outputs": [],
     "prompt_number": 9
    },
    {
     "cell_type": "code",
     "collapsed": false,
     "input": [
      "f, ax = plt.subplots(2,2,  figsize=(10,6))\n",
      "print ax.reshape(4)\n",
      "i=0\n",
      "#plt.suptitle(r\"Spettrogrammi Sisma 16 Febbraio 2013 (Mi 4.8)\" )\n",
      "t=[r\"Sismometro - canale Z\",r\"Sismometro - canale O-E\",r\"Sismometro - canale S-N\",r\"Giroscopio\"]\n",
      "for a in ax.reshape(4):\n",
      "    #pylab.subplot(3,1,i+1, sharex=True,)\n",
      "    #ax_HNN=a.gca()\n",
      "    cax=st[i].spectrogram(per_lap=0.9, mult=1, samp_rate=50, wlen=100, dbscale=True, show=False, log=True,axes=a, )\n",
      "    a.axvline(x1, color='g', linewidth=1, label=\"Arrivo onda P(teorico)\")\n",
      "    a.axvline(x2, color='r', linewidth=1, label=\"Arrivo onda S(teorico)\")\n",
      "    a.set_title(t[i])\n",
      "    #pylab.ylim(0, 5)\n",
      "    #pylab.xlim(250,800)\n",
      "    #a.title(\"Spettogramma Sisma 16 Febbraio - canale \"+str(i))\n",
      "    i=i+1\n",
      "\n",
      "#type(cax)\n",
      "    \n",
      "#pylab.xlabel(r\"Tempo $(s)$\")\n",
      "ax[0][0].legend(loc=1)\n",
      "    #pylab.plot()\n",
      "#pylab.legend()\n",
      "#f.text(0.5, 0.91, r\"Sismometro - canale Z\", horizontalalignment='center', rotation='horizontal')\n",
      "#f.text(0.5, 0.70, r\"Sismometro - canale O-E\", horizontalalignment='center', rotation='horizontal')\n",
      "#f.text(0.5, 0.49, r\"Sismometro - canale S-N\", horizontalalignment='center', rotation='horizontal')\n",
      "f.text(0.5, 0.02, r\"Tempo $(s)$\", horizontalalignment='center', rotation='horizontal')\n",
      "f.text(0.04, 0.5, r\"Frequenza $(Hz)$\", horizontalalignment='right', verticalalignment='center', rotation='vertical')\n",
      "#pylab.setp([a.get_xticklabels() for a in f.axes[:-1]], visible=False)\n",
      "f.savefig(\"plot-spe-p.png\", dpi=300)\n",
      "#pylab.show()"
     ],
     "language": "python",
     "metadata": {},
     "outputs": []
    },
    {
     "cell_type": "heading",
     "level": 3,
     "metadata": {},
     "source": [
      "Selezione nella finestra temporale in cui \u00e8 presente l'evento"
     ]
    },
    {
     "cell_type": "code",
     "collapsed": false,
     "input": [
      "from obspy.core import util\n",
      "util.gps2DistAzimuth(43.663832,10.351733,o.latitude, o.longitude)"
     ],
     "language": "python",
     "metadata": {},
     "outputs": [
      {
       "output_type": "pyout",
       "prompt_number": 37,
       "text": [
        "(106073.75264444533, 66.57104844588764, 247.41228681334422)"
       ]
      }
     ],
     "prompt_number": 37
    },
    {
     "cell_type": "code",
     "collapsed": false,
     "input": [
      "print \"backazimuth stimanto:\", 90-35"
     ],
     "language": "python",
     "metadata": {},
     "outputs": [
      {
       "output_type": "stream",
       "stream": "stdout",
       "text": [
        "backazimuth stimanto: 55\n"
       ]
      }
     ],
     "prompt_number": 19
    },
    {
     "cell_type": "code",
     "collapsed": false,
     "input": [
      "UTCstart_e = ob.UTCDateTime( dt.datetime(day = 4, month = 3, year = 2013, hour =3 , minute = 52, second = 0) )\n",
      "UTCstop_e = ob.UTCDateTime( dt.datetime(day = 4, month = 3, year = 2013, hour =3 , minute = 57, second = 30) )\n",
      "st_e=st.copy()\n",
      "st_e.trim(starttime=UTCstart_e, endtime=UTCstop_e)\n",
      "x1=(P-st_e[0].stats.starttime)\n",
      "x2=(S-st_e[0].stats.starttime)\n",
      "print x1\n",
      "print x2\n",
      "st_e.filter('bandpass',freqmin=0.2,freqmax=2, zerophase=1, corners=4)"
     ],
     "language": "python",
     "metadata": {},
     "outputs": [
      {
       "output_type": "stream",
       "stream": "stdout",
       "text": [
        "94.837508\n",
        "109.320464\n"
       ]
      }
     ],
     "prompt_number": 8
    },
    {
     "cell_type": "code",
     "collapsed": false,
     "input": [
      "r,tr=ob.signal.rotate_NE_RT(st_e[1].data, st_e[2].data, 55)\n",
      "\n",
      "f, ax = plt.subplots(4, sharex=True, sharey=False, figsize=(4.46,9.16))\n",
      "#plt.suptitle(r\"Sisma 16 Febbraio 2013 (Mi 4.8)\" )\n",
      "i=0\n",
      "t=np.linspace(0,st_e[0].data.shape[0]*0.02, st_e[0].data.shape[0]  )\n",
      "\n",
      "ax[0].plot(t,st_e[0].data)\n",
      "ax[1].plot(t,tr)\n",
      "ax[2].plot(t,r)\n",
      "ax[3].plot(t+1,st_e[3].data)\n",
      "\n",
      "ax[0].axes.ticklabel_format(style='sci', axis='y', scilimits=(0,0))\n",
      "ax[1].axes.ticklabel_format(style='sci', axis='y', scilimits=(0,0))\n",
      "ax[2].axes.ticklabel_format(style='sci', axis='y', scilimits=(0,0))\n",
      "ax[3].axes.ticklabel_format(style='sci', axis='y', scilimits=(0,0))\n",
      "pylab.xlabel(r\"Tempo $(s)$\")\n",
      "ax[0].legend(loc=1)\n",
      "#pylab.xlim(0, 950) \n",
      "#pylab.plot()\n",
      "#pylab.legend()\n",
      "f.text(0.5, 0.91, r\"Sismometro - canale Z\", horizontalalignment='center', rotation='horizontal')\n",
      "f.text(0.5, 0.70, r\"Sismometro - componente trasversale\", horizontalalignment='center', rotation='horizontal')\n",
      "f.text(0.5, 0.49, r\"Sismometro - componente radiale\", horizontalalignment='center', rotation='horizontal')\n",
      "f.text(0.5, 0.285, r\"Giroscopio\", horizontalalignment='center', rotation='horizontal')\n",
      "\n",
      "f.text(0.05, 0.2, r\"Velocita' angolare $(rad/s)$\", horizontalalignment='right', verticalalignment='center', rotation='vertical')\n",
      "f.text(0.05, 0.61, r\"Accelerazione $(m/s^2)$\", horizontalalignment='right', verticalalignment='center', rotation='vertical')\n",
      "pylab.setp([a.get_xticklabels() for a in f.axes[:-1]], visible=False)\n",
      "f.savefig(\"plot-serie2.png\", dpi=300)"
     ],
     "language": "python",
     "metadata": {},
     "outputs": [],
     "prompt_number": 9
    },
    {
     "cell_type": "code",
     "collapsed": false,
     "input": [
      "plt.show()"
     ],
     "language": "python",
     "metadata": {},
     "outputs": [],
     "prompt_number": 57
    },
    {
     "cell_type": "code",
     "collapsed": false,
     "input": [
      "f, ax = plt.subplots(2,2,  figsize=(10,6))\n",
      "print ax.reshape(4)\n",
      "i=0\n",
      "#plt.suptitle(r\"Spettrogrammi Sisma 16 Febbraio 2013 (Mi 4.8)\" )\n",
      "ti=[r\"Sismometro - canale Z\",r\"Sismometro - componente trasversale\",r\"Sismometro - componente radiale\",r\"Giroscopio\"]\n",
      "t=np.linspace(0,st_e[0].data.shape[0]*0.02, st_e[0].data.shape[0]  )\n",
      "ax=ax.reshape(4)\n",
      "ax[0].plot(t,st_e[0].data)\n",
      "ax[1].plot(t,tr)\n",
      "ax[2].plot(t,r)\n",
      "ax[3].plot(t,st_e[3].data)\n",
      "for a in ax:\n",
      "    #pylab.subplot(3,1,i+1, sharex=True,)\n",
      "    #ax_HNN=a.gca()\n",
      "    #cax=st[i].spectrogram(per_lap=0.9, mult=1, samp_rate=50, wlen=100, dbscale=True, show=False, log=True,axes=a, )\n",
      "    #a.axvline(x1, color='g', linewidth=1, label=\"Arrivo onda P(teorico)\")\n",
      "    #a.axvline(x2, color='r', linewidth=1, label=\"Arrivo onda S(teorico)\")\n",
      "    a.set_title(ti[i])\n",
      "    a.axes.ticklabel_format(style='sci', axis='y', scilimits=(0,0))\n",
      "    if i>1:\n",
      "        a.set_xlabel(r\"Tempo $(s)$\")\n",
      "    if i>2:\n",
      "        a.set_ylabel(r\"Velocita' angolare $(rad/s)$\")\n",
      "    else:\n",
      "        a.set_ylabel(r\"Accelerazione $(m/s^2)$\")\n",
      "    #pylab.ylim(0, 5)\n",
      "    #pylab.xlim(250,800)\n",
      "    #a.title(\"Spettogramma Sisma 16 Febbraio - canale \"+str(i))\n",
      "    i=i+1\n",
      "\n",
      "#type(cax)\n",
      "    \n",
      "#pylab.xlabel(r\"Tempo $(s)$\")\n",
      "#ax[0][0].legend(loc=1)\n",
      "    #pylab.plot()\n",
      "#pylab.legend()\n",
      "#f.text(0.5, 0.91, r\"Sismometro - canale Z\", horizontalalignment='center', rotation='horizontal')\n",
      "#f.text(0.5, 0.70, r\"Sismometro - canale O-E\", horizontalalignment='center', rotation='horizontal')\n",
      "#f.text(0.5, 0.49, r\"Sismometro - canale S-N\", horizontalalignment='center', rotation='horizontal')\n",
      "#f.text(0.5, 0.02, r\"Tempo $(s)$\", horizontalalignment='center', rotation='horizontal')\n",
      "#f.text(0.04, 0.5, r\"Frequenza $(Hz)$\", horizontalalignment='right', verticalalignment='center', rotation='vertical')\n",
      "#pylab.setp([a.get_xticklabels() for a in f.axes[:-1]], visible=False)\n",
      "f.savefig(\"plot-serie2-p.png\", dpi=300)\n",
      "#pylab.show()"
     ],
     "language": "python",
     "metadata": {},
     "outputs": [
      {
       "output_type": "stream",
       "stream": "stdout",
       "text": [
        "[<matplotlib.axes.AxesSubplot object at 0x73d5550>\n",
        " <matplotlib.axes.AxesSubplot object at 0x71d0950>\n",
        " <matplotlib.axes.AxesSubplot object at 0x7c3aa50>\n",
        " <matplotlib.axes.AxesSubplot object at 0x7c5a590>]\n"
       ]
      }
     ],
     "prompt_number": 11
    },
    {
     "cell_type": "code",
     "collapsed": false,
     "input": [],
     "language": "python",
     "metadata": {},
     "outputs": []
    }
   ],
   "metadata": {}
  }
 ]
}