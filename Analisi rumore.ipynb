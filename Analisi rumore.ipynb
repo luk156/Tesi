{
 "metadata": {
  "name": "Analisi rumore"
 },
 "nbformat": 3,
 "nbformat_minor": 0,
 "worksheets": [
  {
   "cells": [
    {
     "cell_type": "code",
     "collapsed": false,
     "input": [
      "sts2 = {\n",
      "\t'gain': 1500.0,\n",
      "\t'poles': [(-0.037+0.037j), (-0.037-0.037j) ],\n",
      "\t'sensitivity': 1/1.5896e-6,\n",
      "\t'zeros': [0j, 0j] }"
     ],
     "language": "python",
     "metadata": {},
     "outputs": [],
     "prompt_number": 2
    },
    {
     "cell_type": "code",
     "collapsed": false,
     "input": [
      "import obspy as ob\n",
      "from obspy import signal, sac\n",
      "import datetime as dt\n",
      "import sismo\n",
      "#import numpy as np\n",
      "\n",
      "#laser_data_folder = \"/home/matteo/Tesi-data/glaser-data/\"\n",
      "sismo_data_folder = \"/home/matteo/Tesi-data/sismometro/\"\n",
      "\n",
      "UTCstart = ob.UTCDateTime( dt.datetime(day = 16, month = 2, year = 2013, hour =5 , minute = 0, second = 0) )\n",
      "UTCstop = ob.UTCDateTime( dt.datetime(day = 16, month = 2, year = 2013, hour =7 , minute = 0, second = 0) )\n",
      "# i dati del sismometro sono gi\u00e0 filtrati a 20 Hz\n",
      "st=sismo.read_sismo_stream(UTCstart, sismo_data_folder, starttime=UTCstart, endtime=UTCstop)\n",
      "st.detrend(type='linear')\n",
      "#st.simulate(paz_remove=sts2)\n",
      "st.differentiate()\n",
      "tr2 = ob.read('./G-Laser-2013_2_16-4:10_2_16-7:0.SAC', starttime=UTCstart, endtime=UTCstop)\n",
      "tr = ob.read('./G-Laser-2013_2_16-3:0_7:0.SAC', starttime=UTCstart, endtime=UTCstop)\n",
      "tr.detrend(type='linear')\n",
      "# i dati del giroscopio sono a 100 Hertz quindi li decimo per uniformarli\n",
      "tr.decimate(2)\n",
      "# aggiungo la traccia del giroscopio a quelle del sismometro\n",
      "st+=tr"
     ],
     "language": "python",
     "metadata": {},
     "outputs": [],
     "prompt_number": "*"
    },
    {
     "cell_type": "code",
     "collapsed": false,
     "input": [
      "t=matplotlib.mlab.psd(tr, NFFT=8096, Fs=50, noverlap=100, pad_to=None, sides='default', scale_by_freq=True)\n",
      "t2=matplotlib.mlab.psd(tr2, NFFT=8096, Fs=50, noverlap=100, pad_to=None, sides='default', scale_by_freq=True)"
     ],
     "language": "python",
     "metadata": {},
     "outputs": [],
     "prompt_number": "*"
    },
    {
     "cell_type": "code",
     "collapsed": false,
     "input": [
      "pylab.plot(t[1],t[0])\n",
      "pylab.plot(t2[1],t2[0])\n",
      "pylab.yscale('log')\n",
      "pylab.xscale('log')\n",
      "pylab.xlim(0.001,15)"
     ],
     "language": "python",
     "metadata": {},
     "outputs": [],
     "prompt_number": "*"
    },
    {
     "cell_type": "code",
     "collapsed": false,
     "input": [
      "st.plot()"
     ],
     "language": "python",
     "metadata": {},
     "outputs": [],
     "prompt_number": 97
    },
    {
     "cell_type": "code",
     "collapsed": false,
     "input": [
      "pylab.plot(st[1].data)\n"
     ],
     "language": "python",
     "metadata": {},
     "outputs": [
      {
       "output_type": "pyout",
       "prompt_number": 96,
       "text": [
        "[<matplotlib.lines.Line2D at 0x2db13b50>]"
       ]
      }
     ],
     "prompt_number": 96
    },
    {
     "cell_type": "code",
     "collapsed": false,
     "input": [
      "st.filter(\"bandpass\",freqmin=0.0,freqmax=0.003, zerophase=1, corners=1)"
     ],
     "language": "python",
     "metadata": {},
     "outputs": [],
     "prompt_number": 7
    },
    {
     "cell_type": "code",
     "collapsed": false,
     "input": [
      "st.plot()"
     ],
     "language": "python",
     "metadata": {},
     "outputs": [],
     "prompt_number": 8
    },
    {
     "cell_type": "code",
     "collapsed": false,
     "input": [
      "reload(sismo)"
     ],
     "language": "python",
     "metadata": {},
     "outputs": [
      {
       "output_type": "pyout",
       "prompt_number": 9,
       "text": [
        "<module 'sismo' from 'sismo.py'>"
       ]
      }
     ],
     "prompt_number": 9
    },
    {
     "cell_type": "code",
     "collapsed": false,
     "input": [
      "st=sismo.read_sismo_stream(sismo_data_folder, UTCstart, UTCstop)"
     ],
     "language": "python",
     "metadata": {},
     "outputs": []
    }
   ],
   "metadata": {}
  }
 ]
}