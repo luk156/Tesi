{
 "metadata": {
  "name": "sac_ora"
 },
 "nbformat": 3,
 "nbformat_minor": 0,
 "worksheets": [
  {
   "cells": [
    {
     "cell_type": "code",
     "collapsed": false,
     "input": [
      "import unisci\n",
      "import datetime as dt\n",
      "\n",
      "laser_data_folder = \"/home/matteo/Tesi-data/glaser-data/\"\n",
      "ora = dt.datetime(day = 4, month = 3, year = 2013, hour =3 )\n",
      "header,data,start = unisci.read_gyro_file(ora, laser_data_folder)\n",
      "data100 = unisci.decimate_gyro_data(data)\n",
      "unisci.generate_raw_sac(data100[1], start)\n"
     ],
     "language": "python",
     "metadata": {},
     "outputs": [
      {
       "output_type": "stream",
       "stream": "stdout",
       "text": [
        "open /home/matteo/Tesi-data/glaser-data/2013/3/4/data3.dat\n",
        "il file contiene "
       ]
      },
      {
       "output_type": "stream",
       "stream": "stdout",
       "text": [
        " 3600  secondi\n",
        "il file contiene l'inizio della traccia pertanto potrebbero esserci degli artefatti"
       ]
      },
      {
       "output_type": "stream",
       "stream": "stdout",
       "text": [
        "\n",
        "creato il file:"
       ]
      },
      {
       "output_type": "stream",
       "stream": "stdout",
       "text": [
        " G-Laser-2013_3_4-2.SAC\n"
       ]
      }
     ],
     "prompt_number": 1
    },
    {
     "cell_type": "code",
     "collapsed": false,
     "input": [],
     "language": "python",
     "metadata": {},
     "outputs": []
    }
   ],
   "metadata": {}
  }
 ]
}