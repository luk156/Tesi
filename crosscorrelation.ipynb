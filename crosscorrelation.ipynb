{
 "metadata": {
  "name": "crosscorrelation"
 },
 "nbformat": 3,
 "nbformat_minor": 0,
 "worksheets": [
  {
   "cells": [
    {
     "cell_type": "code",
     "collapsed": false,
     "input": [
      "#! /usr/bin/python\n",
      "\n",
      "import obspy as ob\n",
      "from obspy import signal, sac\n",
      "import datetime as dt\n",
      "import sismo\n",
      "import numpy as np\n",
      "\n",
      "laser_data_folder = \"/home/matteo/Tesi-data/glaser-data/\"\n",
      "sismo_data_folder = \"/home/matteo/Tesi-data/sismometro/\"\n",
      "\n",
      "UTCstart = ob.UTCDateTime( dt.datetime(day = 4, month = 3, year = 2013, hour =3 , minute = 53, second = 20) )\n",
      "UTCstop = ob.UTCDateTime( dt.datetime(day = 4, month = 3, year = 2013, hour =3 , minute = 55, second = 0) )\n",
      "\n",
      "st=sismo.read_sismo_stream(UTCstart, sismo_data_folder, starttime=UTCstart, endtime=UTCstop)\n",
      "st.detrend(type='linear')\n",
      "st.differentiate()\n",
      "\n",
      "tr = ob.read('G-Laser-2013_3_4-2.SAC', starttime=UTCstart, endtime=UTCstop)\n",
      "tr.detrend(type='linear')\n",
      "tr.filter('lowpass', freq=4, corners=2, zerophase=1)\n",
      "tr.decimate(2)\n",
      "\n",
      "x=np.linspace(0,360,100)\n",
      "\n",
      "k=np.array([])\n"
     ],
     "language": "python",
     "metadata": {},
     "outputs": [
      {
       "output_type": "stream",
       "stream": "stdout",
       "text": [
        "open /home/matteo/Tesi-data/sismometro/2013.03.04-00.00.00.A295.*.SAC.resamp\n"
       ]
      }
     ],
     "prompt_number": 15
    },
    {
     "cell_type": "code",
     "collapsed": false,
     "input": [
      "st += tr\n",
      "st.plot(starttime=UTCstart, endtime=UTCstop, method=\"full\" , equal_scale= False)\n"
     ],
     "language": "python",
     "metadata": {},
     "outputs": [],
     "prompt_number": 16
    },
    {
     "cell_type": "code",
     "collapsed": false,
     "input": [],
     "language": "python",
     "metadata": {},
     "outputs": [],
     "prompt_number": 5
    },
    {
     "cell_type": "code",
     "collapsed": false,
     "input": [],
     "language": "python",
     "metadata": {},
     "outputs": []
    }
   ],
   "metadata": {}
  }
 ]
}