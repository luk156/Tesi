{
 "metadata": {
  "name": "crosscorrelation"
 },
 "nbformat": 3,
 "nbformat_minor": 0,
 "worksheets": [
  {
   "cells": [
    {
     "cell_type": "code",
     "collapsed": false,
     "input": [
      "#! /usr/bin/python\n",
      "\n",
      "import obspy as ob\n",
      "from obspy import signal, sac\n",
      "import datetime as dt\n",
      "import sismo\n",
      "import numpy as np\n",
      "\n",
      "laser_data_folder = \"/home/matteo/Tesi-data/glaser-data/\"\n",
      "sismo_data_folder = \"/home/matteo/Tesi-data/sismometro/\"\n",
      "\n",
      "UTCstart = ob.UTCDateTime( dt.datetime(day = 4, month = 3, year = 2013, hour =3 , minute = 51, second = 30) )\n",
      "UTCstop = ob.UTCDateTime( dt.datetime(day = 4, month = 3, year = 2013, hour =3 , minute = 57, second = 30) )\n",
      "\n",
      "st=sismo.read_sismo_stream(UTCstart, sismo_data_folder, starttime=UTCstart, endtime=UTCstop)\n",
      "st.detrend(type='linear')\n",
      "st.differentiate()\n",
      "\n",
      "tr = ob.read('G-Laser-2013_3_4-2.SAC', starttime=UTCstart, endtime=UTCstop)\n",
      "tr.detrend(type='linear')\n",
      "tr.filter('lowpass', freq=4, corners=2, zerophase=1)\n",
      "tr.decimate(2)\n",
      "\n"
     ],
     "language": "python",
     "metadata": {},
     "outputs": [
      {
       "output_type": "stream",
       "stream": "stdout",
       "text": [
        "open /home/matteo/Tesi-data/sismometro/2013.03.04-00.00.00.A295.*.SAC.resamp\n"
       ]
      }
     ],
     "prompt_number": 61
    },
    {
     "cell_type": "code",
     "collapsed": false,
     "input": [
      "#st += tr\n",
      "k=[]\n",
      "c=[]\n",
      "for i in range(20):\n",
      "    k.append(st.copy())\n",
      "    print 0.05*i\n",
      "    print 0.05*i+0.05\n",
      "    k[i].filter('bandpass',freqmin=0.05*i,freqmax=0.05*i+0.05, zerophase=1, corners=1)\n",
      "    c.append(ob.signal.cross_correlation.xcorr(k[i][2].data,k[i][1].data,0,full_xcorr=True)[1])\n",
      "    \n"
     ],
     "language": "python",
     "metadata": {},
     "outputs": [
      {
       "output_type": "stream",
       "stream": "stdout",
       "text": [
        "0.0\n",
        "0.05\n",
        "0.05\n",
        "0.1\n",
        "0.1\n",
        "0.15\n",
        "0.15"
       ]
      },
      {
       "output_type": "stream",
       "stream": "stdout",
       "text": [
        "\n",
        "0.2\n",
        "0.2\n",
        "0.25\n",
        "0.25\n",
        "0.3\n",
        "0.3\n",
        "0.35\n",
        "0.35"
       ]
      },
      {
       "output_type": "stream",
       "stream": "stdout",
       "text": [
        "\n",
        "0.4\n",
        "0.4\n",
        "0.45\n",
        "0.45\n",
        "0.5\n",
        "0.5\n",
        "0.55\n",
        "0.55"
       ]
      },
      {
       "output_type": "stream",
       "stream": "stdout",
       "text": [
        "\n",
        "0.6\n",
        "0.6\n",
        "0.65\n",
        "0.65\n",
        "0.7\n",
        "0.7\n",
        "0.75\n",
        "0.75\n",
        "0.8\n",
        "0.8"
       ]
      },
      {
       "output_type": "stream",
       "stream": "stdout",
       "text": [
        "\n",
        "0.85\n",
        "0.85\n",
        "0.9\n",
        "0.9\n",
        "0.95\n",
        "0.95\n",
        "1.0\n"
       ]
      }
     ],
     "prompt_number": 59
    },
    {
     "cell_type": "code",
     "collapsed": false,
     "input": [
      "st.filter('bandpass',freqmin=0.5,freqmax=0.55, zerophase=1, corners=1)\n",
      "st.plot(starttime=UTCstart, endtime=UTCstop, method=\"full\" , equal_scale= False)"
     ],
     "language": "python",
     "metadata": {},
     "outputs": [],
     "prompt_number": 62
    },
    {
     "cell_type": "code",
     "collapsed": false,
     "input": [
      "plt.plot(c)\n",
      "plt.show()"
     ],
     "language": "python",
     "metadata": {},
     "outputs": [],
     "prompt_number": 60
    },
    {
     "cell_type": "code",
     "collapsed": false,
     "input": [
      "import  matplotlib.pyplot as plt\n",
      "plt.figure()\n",
      "plt.plot(st[1].data)\n",
      "plt.plot(st[2].data)\n",
      "plt.show()"
     ],
     "language": "python",
     "metadata": {},
     "outputs": [],
     "prompt_number": 63
    },
    {
     "cell_type": "code",
     "collapsed": false,
     "input": [],
     "language": "python",
     "metadata": {},
     "outputs": []
    }
   ],
   "metadata": {}
  }
 ]
}