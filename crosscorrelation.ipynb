{
 "metadata": {
  "name": "crosscorrelation"
 },
 "nbformat": 3,
 "nbformat_minor": 0,
 "worksheets": [
  {
   "cells": [
    {
     "cell_type": "code",
     "collapsed": false,
     "input": [
      "#! /usr/bin/python\n",
      "\n",
      "import obspy as ob\n",
      "from obspy import signal, sac\n",
      "import datetime as dt\n",
      "import sismo\n",
      "import numpy as np\n",
      "\n",
      "laser_data_folder = \"/home/matteo/Tesi-data/glaser-data/\"\n",
      "sismo_data_folder = \"/home/matteo/Tesi-data/sismometro/\"\n",
      "\n",
      "UTCstart = ob.UTCDateTime( dt.datetime(day = 16, month = 2, year = 2013, hour =21 , minute = 10, second = 30) )\n",
      "UTCstop = ob.UTCDateTime( dt.datetime(day = 16, month = 2, year = 2013, hour =21 , minute = 25, second = 30) )\n",
      "\n",
      "st=sismo.read_sismo_stream(UTCstart, sismo_data_folder, starttime=UTCstart, endtime=UTCstop)\n",
      "st.detrend(type='linear')\n",
      "st.differentiate()\n",
      "\n",
      "tr = ob.read('G-Laser-2013_2_16-21:10_22:0.SAC', starttime=UTCstart, endtime=UTCstop)\n",
      "tr.detrend(type='linear')\n",
      "tr.filter('lowpass', freq=4, corners=2, zerophase=1)\n",
      "tr.decimate(2)\n",
      "\n",
      "#tr2 = ob.read('G-Laser-2013_2_16-20.SAC', starttime=UTCstart, endtime=UTCstop)\n"
     ],
     "language": "python",
     "metadata": {},
     "outputs": [
      {
       "output_type": "stream",
       "stream": "stdout",
       "text": [
        "open /home/matteo/Tesi-data/sismometro/2013.02.16-00.00.00.A295.*.SAC.resamp\n"
       ]
      }
     ],
     "prompt_number": 54
    },
    {
     "cell_type": "code",
     "collapsed": false,
     "input": [
      "st+=tr\n",
      "st.filter('bandpass',freqmin=0.01,freqmax=1, zerophase=1, corners=1)\n",
      "st.plot(starttime=UTCstart, endtime=UTCstop, method=\"full\" , equal_scale= False)"
     ],
     "language": "python",
     "metadata": {},
     "outputs": [],
     "prompt_number": 55
    },
    {
     "cell_type": "code",
     "collapsed": false,
     "input": [
      "import  matplotlib.pyplot as plt\n",
      "plt.figure()\n",
      "plt.plot(st[0].data)\n",
      "plt.plot(st[3].data*0.2e12)\n",
      "plt.show()"
     ],
     "language": "python",
     "metadata": {},
     "outputs": [],
     "prompt_number": 60
    },
    {
     "cell_type": "code",
     "collapsed": false,
     "input": [],
     "language": "python",
     "metadata": {},
     "outputs": []
    }
   ],
   "metadata": {}
  }
 ]
}