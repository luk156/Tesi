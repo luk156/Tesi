{
 "metadata": {
  "name": "GeneraSAC ora"
 },
 "nbformat": 3,
 "nbformat_minor": 0,
 "worksheets": [
  {
   "cells": [
    {
     "cell_type": "code",
     "collapsed": false,
     "input": [
      "import os\n",
      "import obspy as ob\n",
      "import numpy as np\n",
      "from scipy import signal,io,fftpack\n",
      "from obspy import signal, sac\n",
      "import datetime as dt\n",
      "import unisci"
     ],
     "language": "python",
     "metadata": {},
     "outputs": [],
     "prompt_number": 2
    },
    {
     "cell_type": "code",
     "collapsed": false,
     "input": [
      "data_folder = \"/home/matteo/Tesi-data/glaser-data/\"\n",
      "ora = dt.datetime(day = 16, month = 2, year = 2013, hour = 21,)\n",
      "header,data,start_data = unisci.read_gyro_file(ora, data_folder, header_lenght =202, channel_array = np.array([5000,5000,5000,5000]))\n",
      "type(data)\n",
      "speed100 = unisci.decimate_gyro_data(data[1])\n",
      "unisci.generate_raw_sac(speed100, start_data)"
     ],
     "language": "python",
     "metadata": {},
     "outputs": [
      {
       "output_type": "stream",
       "stream": "stdout",
       "text": [
        "open /home/matteo/Tesi-data/glaser-data/2013/2/16/data21.dat\n",
        "il file contiene "
       ]
      },
      {
       "output_type": "stream",
       "stream": "stdout",
       "text": [
        " 3600  secondi\n",
        "creato il file:"
       ]
      },
      {
       "output_type": "stream",
       "stream": "stdout",
       "text": [
        " G-Laser-2013_2_16-20.SAC\n"
       ]
      }
     ],
     "prompt_number": 3
    },
    {
     "cell_type": "code",
     "collapsed": false,
     "input": [],
     "language": "python",
     "metadata": {},
     "outputs": []
    }
   ],
   "metadata": {}
  }
 ]
}