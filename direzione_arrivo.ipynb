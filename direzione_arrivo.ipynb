{
 "metadata": {
  "name": "direzione_arrivo"
 },
 "nbformat": 3,
 "nbformat_minor": 0,
 "worksheets": [
  {
   "cells": [
    {
     "cell_type": "code",
     "collapsed": false,
     "input": [
      "#! /usr/bin/python\n",
      "\n",
      "import obspy as ob\n",
      "from obspy import signal, sac\n",
      "import datetime as dt\n",
      "import sismo\n",
      "import numpy as np\n",
      "\n",
      "laser_data_folder = \"/home/matteo/Tesi-data/glaser-data/\"\n",
      "sismo_data_folder = \"/home/matteo/Tesi-data/sismometro/\"\n",
      "\n",
      "UTCstart = ob.UTCDateTime( dt.datetime(day = 16, month = 2, year = 2013, hour =21 , minute = 16, second = 30) )\n",
      "UTCstop = ob.UTCDateTime( dt.datetime(day = 16, month = 2, year = 2013, hour =21 , minute = 21, second = 30) )\n",
      "\n",
      "st=sismo.read_sismo_stream(UTCstart, sismo_data_folder, starttime=UTCstart, endtime=UTCstop)\n",
      "st.detrend(type='linear')\n",
      "st.differentiate()\n",
      "\n",
      "tr = ob.read('G-Laser-2013_2_16-21:10_22:0.SAC', starttime=UTCstart, endtime=UTCstop)\n",
      "tr.detrend(type='linear')\n",
      "tr.filter('lowpass', freq=4, corners=2, zerophase=1)\n",
      "tr.decimate(2)\n",
      "\n",
      "#tr2 = ob.read('G-Laser-2013_2_16-20.SAC', starttime=UTCstart, endtime=UTCstop)\n"
     ],
     "language": "python",
     "metadata": {},
     "outputs": [
      {
       "output_type": "stream",
       "stream": "stdout",
       "text": [
        "open /home/matteo/Tesi-data/sismometro/2013.02.16-00.00.00.A295.*.SAC.resamp\n"
       ]
      }
     ],
     "prompt_number": 175
    },
    {
     "cell_type": "code",
     "collapsed": false,
     "input": [
      "st+=tr\n",
      "#st.spectrogram()\n",
      "fourier = np.fft.rfft(st[1].data)\n",
      "freq = np.fft.fftfreq(st[1].data.size/2+1, d=0.02)\n",
      "print fourier.size\n",
      "print freq.size\n",
      "st.filter('bandpass',freqmin=0.1,freqmax=1, zerophase=1, corners=1)\n",
      "#st.plot(starttime=UTCstart, endtime=UTCstop, method=\"full\" , equal_scale= False)"
     ],
     "language": "python",
     "metadata": {},
     "outputs": [
      {
       "output_type": "stream",
       "stream": "stdout",
       "text": [
        "7501\n",
        "7501\n"
       ]
      }
     ],
     "prompt_number": 192
    },
    {
     "cell_type": "code",
     "collapsed": false,
     "input": [
      "plt.plot(freq,fourier)\n",
      "plt.show()"
     ],
     "language": "python",
     "metadata": {},
     "outputs": [],
     "prompt_number": 194
    },
    {
     "cell_type": "code",
     "collapsed": false,
     "input": [
      "import  matplotlib.pyplot as plt"
     ],
     "language": "python",
     "metadata": {},
     "outputs": [],
     "prompt_number": 107
    },
    {
     "cell_type": "code",
     "collapsed": false,
     "input": [
      "S=ob.UTCDateTime('2013-02-16T21:17:50.896728Z')\n",
      "P=ob.UTCDateTime('2013-02-16T21:17:08.031309Z')\n",
      "x1=(P-st[2].stats.starttime)\n",
      "x2=(S-st[2].stats.starttime)\n",
      "print x1\n",
      "print x2"
     ],
     "language": "python",
     "metadata": {},
     "outputs": [
      {
       "output_type": "stream",
       "stream": "stdout",
       "text": [
        "38.036309\n",
        "80.901728\n"
       ]
      }
     ],
     "prompt_number": 177
    },
    {
     "cell_type": "code",
     "collapsed": false,
     "input": [
      "x=st[1].times()\n",
      "#t1=int(x1*50-100)\n",
      "#t2=int(x1*50+100)\n",
      "#y=st[2].data[t1:t2]\n",
      "y=st[1].data\n",
      "#x=x[t1:t2]\n",
      "plt.plot(x,y)\n",
      "plt.vlines(x1, y.min(), y.max(), color='g', linewidth=2)\n",
      "plt.vlines(x2, y.min(), y.max(), color='r', linewidth=2)\n",
      "plt.show()\n",
      "\n"
     ],
     "language": "python",
     "metadata": {},
     "outputs": [],
     "prompt_number": 181
    },
    {
     "cell_type": "code",
     "collapsed": false,
     "input": [
      "st.spectrogram()"
     ],
     "language": "python",
     "metadata": {},
     "outputs": [
      {
       "output_type": "pyout",
       "prompt_number": 104,
       "text": [
        "[None, None, None, None]"
       ]
      }
     ],
     "prompt_number": 104
    },
    {
     "cell_type": "code",
     "collapsed": false,
     "input": [],
     "language": "python",
     "metadata": {},
     "outputs": []
    }
   ],
   "metadata": {}
  }
 ]
}