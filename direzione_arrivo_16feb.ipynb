{
 "metadata": {
  "name": "direzione_arrivo_16feb"
 },
 "nbformat": 3,
 "nbformat_minor": 0,
 "worksheets": [
  {
   "cells": [
    {
     "cell_type": "heading",
     "level": 3,
     "metadata": {},
     "source": [
      "parametri per la stampa dei grafici"
     ]
    },
    {
     "cell_type": "code",
     "collapsed": false,
     "input": [
      "import matplotlib as mpl\n",
      "\n",
      "#To make sure we have always the same matplotlib settings\n",
      "#(the ones in comments are the ipython notebook settings)\n",
      "\n",
      "mpl.rcParams['figure.figsize']=(7.0,5.0)    #(6.0,4.0)\n",
      "mpl.rcParams['font.size']=7                #10 \n",
      "mpl.rcParams['savefig.dpi']=150             #72 \n",
      "mpl.rcParams['figure.subplot.bottom']=.1\n",
      "import warnings\n",
      "warnings.filterwarnings('ignore')"
     ],
     "language": "python",
     "metadata": {},
     "outputs": [],
     "prompt_number": 1
    },
    {
     "cell_type": "heading",
     "level": 3,
     "metadata": {},
     "source": [
      "lettura dei dati"
     ]
    },
    {
     "cell_type": "code",
     "collapsed": false,
     "input": [
      "sts2 = {\n",
      "\t'gain': 1500.0,\n",
      "\t'poles': [(-0.037+0.037j), (-0.037-0.037j) ],\n",
      "\t'sensitivity': 1/1.5896e-6,\n",
      "\t'zeros': [0j, 0j] }"
     ],
     "language": "python",
     "metadata": {},
     "outputs": [],
     "prompt_number": 2
    },
    {
     "cell_type": "code",
     "collapsed": false,
     "input": [
      "import matplotlib as mpl\n",
      "\n",
      "\n",
      "\n",
      "#To make sure we have always the same matplotlib settings\n",
      "#(the ones in comments are the ipython notebook settings)\n",
      "mpl.rcParams['backend']=\"Cairo\"    #(6.0,4.0)\n",
      "mpl.rcParams['interactive']=\"False\"               #10\n",
      "mpl.rcParams['toolbar']=\"None\"     #(6.0,4.0)\n",
      "mpl.rcParams['font.size']=10                #10\n",
      "mpl.rcParams['font.family']=\"serif\"  \n",
      "mpl.rcParams['text.usetex']=\"True\"\n",
      "mpl.rcParams['text.latex.unicode']=\"True\"\n",
      "mpl.rcParams['text.latex.preamble']= \"\\usepackage{bm}\"\n",
      "mpl.rcParams['xtick.labelsize']=10\n",
      "mpl.rcParams['ytick.labelsize']=10\n",
      "mpl.rcParams['legend.fontsize']=9 \n",
      "mpl.rcParams['savefig.dpi']=300             #72 \n",
      "mpl.rcParams['axes.hold']=\"True\"\n",
      "import warnings\n",
      "warnings.filterwarnings('ignore')"
     ],
     "language": "python",
     "metadata": {},
     "outputs": [],
     "prompt_number": 1
    },
    {
     "cell_type": "code",
     "collapsed": false,
     "input": [
      "\n",
      "\n",
      "import obspy as ob\n",
      "from obspy import signal, sac\n",
      "import datetime as dt\n",
      "import sismo\n",
      "import numpy as np\n",
      "\n",
      "#laser_data_folder = \"/home/matteo/Tesi-data/glaser-data/\"\n",
      "sismo_data_folder = \"/home/matteo/Tesi/Tesi-data/sismometro/\"\n",
      "\n",
      "UTCstart = ob.UTCDateTime( dt.datetime(day = 16, month = 2, year = 2013, hour =21 , minute = 10, second = 30) )\n",
      "UTCstop = ob.UTCDateTime( dt.datetime(day = 16, month = 2, year = 2013, hour =21 , minute = 40, second = 30) )\n",
      "# i dati del sismometro sono gi\u00e0 filtrati a 20 Hz\n",
      "st=sismo.read_sismo_stream3(sismo_data_folder, starttime=UTCstart, endtime=UTCstop)\n",
      "st.detrend(type='linear')\n",
      "#st.simulate(paz_remove=sts2)\n",
      "st.differentiate()\n",
      "\n",
      "tr = ob.read('./G-Laser-2013_2_16-15:0_2_16-23:0.SAC', starttime=UTCstart, endtime=UTCstop)\n",
      "tr.detrend(type='linear')\n",
      "# i dati del giroscopio sono a 100 Hertz quindi li decimo per uniformarli\n",
      "tr.decimate(2)\n",
      "#tr.filter('highpass',freq=1/120.0, zerophase=1, corners=2)\n",
      "# aggiungo la traccia del giroscopio a quelle del sismometro\n",
      "st+=tr\n"
     ],
     "language": "python",
     "metadata": {},
     "outputs": [
      {
       "output_type": "stream",
       "stream": "stdout",
       "text": [
        "open /home/matteo/Tesi/Tesi-data/sismometro/2013.02.16-00.00.00.A295.*.SAC.resamp\n",
        "3 Trace(s) in Stream:\n",
        ".A295..1 | 2013-02-16T21:10:29.995000Z - 2013-02-16T21:40:29.995000Z | 50.0 Hz, 90001 samples\n",
        ".A295..2 | 2013-02-16T21:10:29.995000Z - 2013-02-16T21:40:29.995000Z | 50.0 Hz, 90001 samples\n",
        ".A295..3 | 2013-02-16T21:10:29.995000Z - 2013-02-16T21:40:29.995000Z | 50.0 Hz, 90001 samples"
       ]
      },
      {
       "output_type": "stream",
       "stream": "stdout",
       "text": [
        "\n",
        "open /home/matteo/Tesi/Tesi-data/sismometro/2013.02.17-00.00.00.A295.*.SAC.resamp\n",
        "90001"
       ]
      },
      {
       "output_type": "stream",
       "stream": "stdout",
       "text": [
        "\n",
        "3 Trace(s) in Stream:\n",
        ".A295..1 | 2013-02-16T21:10:29.995000Z - 2013-02-16T21:40:29.995000Z | 50.0 Hz, 90001 samples\n",
        ".A295..2 | 2013-02-16T21:10:29.995000Z - 2013-02-16T21:40:29.995000Z | 50.0 Hz, 90001 samples\n",
        ".A295..3 | 2013-02-16T21:10:29.995000Z - 2013-02-16T21:40:29.995000Z | 50.0 Hz, 90001 samples\n"
       ]
      }
     ],
     "prompt_number": 2
    },
    {
     "cell_type": "code",
     "collapsed": false,
     "input": [
      "tr.plot()"
     ],
     "language": "python",
     "metadata": {},
     "outputs": [],
     "prompt_number": 199
    },
    {
     "cell_type": "heading",
     "level": 3,
     "metadata": {},
     "source": [
      "Calcolo il tempo di arrivo"
     ]
    },
    {
     "cell_type": "code",
     "collapsed": false,
     "input": [
      "\n",
      "from obspy.neries import Client\n",
      "import datetime as dt\n",
      "client = Client(user='luk156')\n",
      "# richedo informazioni sull'evento selezionato\n",
      "event = client.getEventDetail(\"20130216_0000081\", 'catalog')\n",
      "o=event[0].origins[0]\n",
      "# coordinate san Piero\n",
      "locations = [(43.663832,10.351733)]\n",
      "# calcolo i tempi di arrivo\n",
      "tt=client.getTravelTimes(o.latitude, o.longitude, o.depth, locations, model='iasp91')\n",
      "tS=tt[0]['S']\n",
      "tP=tt[0]['P']\n",
      "\n",
      "P=o.time + dt.timedelta(milliseconds=tP)\n",
      "S=o.time + dt.timedelta(milliseconds=tS)\n",
      "\n",
      "x1=(P-st[2].stats.starttime)\n",
      "x2=(S-st[2].stats.starttime)\n",
      "print \"Ritardo onda P(S) rispetto all'inzio della traccia: \", x1\n",
      "print \"Ritardo onda S(S) rispetto all'inizio della traccia: \", x2\n",
      "print event"
     ],
     "language": "python",
     "metadata": {},
     "outputs": [
      {
       "output_type": "stream",
       "stream": "stdout",
       "text": [
        "Ritardo onda P(S) rispetto all'inzio della traccia:  398.036309\n",
        "Ritardo onda S(S) rispetto all'inizio della traccia:  440.901728\n",
        "1 Event(s) in Catalog:\n",
        "2013-02-16T21:16:09.000000Z | +41.714,  +13.576 | 4.8 ML | manual\n"
       ]
      }
     ],
     "prompt_number": 3
    },
    {
     "cell_type": "code",
     "collapsed": false,
     "input": [
      "2*(x2)"
     ],
     "language": "python",
     "metadata": {},
     "outputs": [
      {
       "output_type": "pyout",
       "prompt_number": 7,
       "text": [
        "<obspy.core.trace.Trace at 0x39a4f10>"
       ]
      }
     ],
     "prompt_number": 7
    },
    {
     "cell_type": "heading",
     "level": 3,
     "metadata": {},
     "source": [
      "Spettogrammi del sismometro e del giroscopio"
     ]
    },
    {
     "cell_type": "code",
     "collapsed": false,
     "input": [
      "f, ax = plt.subplots(4, sharex=True, sharey=True, figsize=(4.46,10.5))\n",
      "i=0\n",
      "#plt.suptitle(r\"Spettrogrammi Sisma 16 Febbraio 2013 (Mi 4.8)\" )\n",
      "for a in ax:\n",
      "    #pylab.subplot(3,1,i+1, sharex=True,)\n",
      "    #ax_HNN=a.gca()\n",
      "    cax=st[i].spectrogram(per_lap=0.90, wlen=100, dbscale=True, show=False, log=True,axes=a, clip=([0, 1]) )\n",
      "    a.axvline(x1, color='g', linewidth=1, label=\"Arrivo onda P(teorico)\")\n",
      "    a.axvline(x2, color='r', linewidth=1, label=\"Arrivo onda S(teorico)\")\n",
      "    #pylab.ylim(0, 5)\n",
      "    #pylab.xlim(250,800)\n",
      "    #a.title(\"Spettogramma Sisma 16 Febbraio - canale \"+str(i))\n",
      "    i=i+1\n",
      "\n",
      "pylab.xlabel(r\"Tempo $(s)$\")\n",
      "ax[0].legend(loc=1)\n",
      "    #pylab.plot()\n",
      "#pylab.legend()\n",
      "f.text(0.5, 0.91, r\"Sismometro - canale Z\", horizontalalignment='center', rotation='horizontal')\n",
      "f.text(0.5, 0.70, r\"Sismometro - canale O-E\", horizontalalignment='center', rotation='horizontal')\n",
      "f.text(0.5, 0.49, r\"Sismometro - canale S-N\", horizontalalignment='center', rotation='horizontal')\n",
      "f.text(0.5, 0.285, r\"Giroscopio\", horizontalalignment='center', rotation='horizontal')\n",
      "f.text(0.04, 0.5, r\"Frequenza $(Hz)$\", horizontalalignment='right', verticalalignment='center', rotation='vertical')\n",
      "pylab.setp([a.get_xticklabels() for a in f.axes[:-1]], visible=False)\n",
      "f.savefig(\"plot-spe.png\", dpi=300)\n"
     ],
     "language": "python",
     "metadata": {},
     "outputs": [],
     "prompt_number": 5
    },
    {
     "cell_type": "code",
     "collapsed": false,
     "input": [
      "UTCstart = ob.UTCDateTime( dt.datetime(day = 16, month = 2, year = 2013, hour =15 , minute = 0, second = 0) )\n",
      "UTCstop = ob.UTCDateTime( dt.datetime(day = 16, month = 2, year = 2013, hour =21 , minute = 0, second = 0) )\n",
      "tr_r = ob.read('G-Laser-2013_2_16-15:0_2_16-23:0.SAC', starttime=UTCstart, endtime=UTCstop)\n",
      "tr_r.detrend(type='linear')\n",
      "# i dati del giroscopio sono a 100 Hertz quindi li decimo per uniformarli\n",
      "tr_r.decimate(2)\n",
      "tr_r.filter('highpass',freq=1/120.0, zerophase=1, corners=2)\n",
      "\n",
      "st_r=sismo.read_sismo_stream3(sismo_data_folder, starttime=UTCstart, endtime=UTCstop)\n",
      "st_r.detrend(type='linear')\n",
      "#st.simulate(paz_remove=sts2)\n",
      "st_r.differentiate()"
     ],
     "language": "python",
     "metadata": {},
     "outputs": [
      {
       "output_type": "stream",
       "stream": "stdout",
       "text": [
        "open /home/matteo/Tesi/Tesi-data/sismometro/2013.02.16-00.00.00.A295.*.SAC.resamp\n",
        "3 Trace(s) in Stream:\n",
        ".A295..1 | 2013-02-16T14:59:59.995000Z - 2013-02-16T20:59:59.995000Z | 50.0 Hz, 1080001 samples\n",
        ".A295..2 | 2013-02-16T14:59:59.995000Z - 2013-02-16T20:59:59.995000Z | 50.0 Hz, 1080001 samples\n",
        ".A295..3 | 2013-02-16T14:59:59.995000Z - 2013-02-16T20:59:59.995000Z | 50.0 Hz, 1080001 samples"
       ]
      },
      {
       "output_type": "stream",
       "stream": "stdout",
       "text": [
        "\n",
        "open /home/matteo/Tesi/Tesi-data/sismometro/2013.02.17-00.00.00.A295.*.SAC.resamp\n",
        "1080001"
       ]
      },
      {
       "output_type": "stream",
       "stream": "stdout",
       "text": [
        "\n",
        "3 Trace(s) in Stream:\n",
        ".A295..1 | 2013-02-16T14:59:59.995000Z - 2013-02-16T20:59:59.995000Z | 50.0 Hz, 1080001 samples\n",
        ".A295..2 | 2013-02-16T14:59:59.995000Z - 2013-02-16T20:59:59.995000Z | 50.0 Hz, 1080001 samples\n",
        ".A295..3 | 2013-02-16T14:59:59.995000Z - 2013-02-16T20:59:59.995000Z | 50.0 Hz, 1080001 samples\n"
       ]
      }
     ],
     "prompt_number": 6
    },
    {
     "cell_type": "code",
     "collapsed": false,
     "input": [
      "tr_r[0].data"
     ],
     "language": "python",
     "metadata": {},
     "outputs": [
      {
       "output_type": "pyout",
       "prompt_number": 23,
       "text": [
        "array([ -6.12481726e-08,  -8.09142572e-08,  -1.28342950e-07, ...,\n",
        "         1.84303828e-07,   1.11296236e-07,  -1.13342512e-07])"
       ]
      }
     ],
     "prompt_number": 23
    },
    {
     "cell_type": "code",
     "collapsed": false,
     "input": [
      "\n",
      "f, ax = plt.subplots(2, sharex=True, figsize=(4.36,6.5))\n",
      "ax[0].set_xscale(\"log\") \n",
      "ax[0].set_yscale(\"log\")\n",
      "ax[1].set_xscale(\"log\") \n",
      "ax[1].set_yscale(\"log\")\n",
      "#ax[2].set_xscale(\"log\") \n",
      "#ax[2].set_yscale(\"log\")\n",
      "\n",
      "t1=matplotlib.mlab.psd(tr[0].data[x1*50:x2*50], NFFT=6000, Fs=50, noverlap=3000, pad_to=None, sides='default', scale_by_freq=True)\n",
      "t2=matplotlib.mlab.psd(tr[0].data[x2*50:x2*50+5*60*50], NFFT=6000, Fs=50, noverlap=3000, pad_to=None, sides='default', scale_by_freq=True)\n",
      "t3=matplotlib.mlab.psd(tr_r[0].data, NFFT=6000, Fs=50, noverlap=3000, pad_to=None, sides='default', scale_by_freq=True)\n",
      "#ax[0].plot(t1[1],t1[0],'g',label=\"P-Wave\")\n",
      "ax[0].plot(t2[1],t2[0],'r',label=\"S-Wave\")\n",
      "ax[0].plot(t3[1],t3[0],'k',label=\"Noise\")\n",
      "\n",
      "\n",
      "fr=[]\n",
      "fr2=[]\n",
      "psd=[]\n",
      "psd2=[]\n",
      "\n",
      "for i in range(3):\n",
      "    #t1s=matplotlib.mlab.psd(st[i].data[x1*50:x2*50], NFFT=5000, Fs=50, noverlap=0, pad_to=None, sides='default', scale_by_freq=True)\n",
      "    a,b=matplotlib.mlab.psd(st[i].data[x2*50:x2*50+5*60*50], NFFT=6000, Fs=50, noverlap=3000, pad_to=None, sides='default', scale_by_freq=True)\n",
      "    fr=np.append(fr,b)\n",
      "    psd=np.append(psd,a)\n",
      "    ax[1].plot(b,a,'r')\n",
      "    a,b=matplotlib.mlab.psd(st_r[i].data, NFFT=6000, Fs=50, noverlap=3000, pad_to=None, sides='default', scale_by_freq=True)\n",
      "    psd2=np.append(psd2,a)\n",
      "    ax[1].plot(b,a,'k')\n",
      "    \n",
      "fr=np.reshape(fr, (3,-1))\n",
      "psd=np.reshape(psd, (3,-1))\n",
      "psd2=np.reshape(psd2, (3,-1))\n",
      "\n",
      "for i in range(3):\n",
      "    n=200\n",
      "    #ax[2].plot(semplifica(fr[1][:-1000],n),semplifica(np.sqrt(psd[i][:-1000]),n)/semplifica(np.sqrt(t2[0][:-1000]),n),'r')\n",
      "    #ax[2].plot(semplifica(fr[1][:-1000],n),semplifica(np.sqrt(psd2[i][:-1000]),n)/semplifica(np.sqrt(t3[0][:-1000]),n),'k')\n",
      "ax[0].axes.set_ylim(1e-19, 1e-12)\n",
      "#ax[1].axes.ticklabel_format(style='sci', axis='y', scilimits=(0,0))\n",
      "pylab.xlim(0.01, 15)\n",
      "ax[0].legend(loc=1)\n",
      "plt.subplots_adjust(left=0.15, right=0.95, top=0.9, bottom=0.1)\n",
      "f.text(0.5, 0.92, r\"Giroscopio\", horizontalalignment='center', rotation='horizontal')\n",
      "f.text(0.5, 0.49, r\"Sismometro\", horizontalalignment='center', rotation='horizontal')\n",
      "f.text(0.05, 0.3, r\"PSD $(m^2 s^{-4} Hz^{-1})$\", horizontalalignment='right', verticalalignment='center', rotation='vertical')\n",
      "f.text(0.05, 0.7, r\"PSD $(Rad^2 s^{-2} Hz^{-1})$\", horizontalalignment='right', verticalalignment='center', rotation='vertical')\n",
      "f.text(0.5, 0.05, r\"$Frequenza (Hz)$\", horizontalalignment='center', rotation='horizontal')\n",
      "pylab.setp([a.get_xticklabels() for a in f.axes[:-1]], visible=False)\n",
      "f.savefig(\"plot-psd.png\", dpi=300)"
     ],
     "language": "python",
     "metadata": {},
     "outputs": [],
     "prompt_number": 29
    },
    {
     "cell_type": "code",
     "collapsed": false,
     "input": [
      "st.plot()"
     ],
     "language": "python",
     "metadata": {},
     "outputs": [],
     "prompt_number": 209
    },
    {
     "cell_type": "code",
     "collapsed": false,
     "input": [
      "#print np.sqrt(psd[i][20:-1000]).shape\n",
      "\n",
      "def semplifica(x,f):\n",
      "    o= x.shape[0]%f\n",
      "    a=np.reshape( x[o:], (f,-1) )\n",
      "    a=np.mean(a, axis=1)\n",
      "    return a\n",
      "\n",
      "#print semplifica(np.sqrt(psd[i][20:-1000]),10).shape\n",
      "#print semplifica(np.sqrt(t2[0][20:-1000]),10).shape"
     ],
     "language": "python",
     "metadata": {},
     "outputs": [],
     "prompt_number": 41
    },
    {
     "cell_type": "heading",
     "level": 3,
     "metadata": {},
     "source": [
      "Selezione nella finestra temporale in cui \u00e8 presente l'evento"
     ]
    },
    {
     "cell_type": "code",
     "collapsed": false,
     "input": [
      "UTCstart_e = ob.UTCDateTime( dt.datetime(day = 16, month = 2, year = 2013, hour =21 , minute = 13, second = 30) )\n",
      "UTCstop_e = ob.UTCDateTime( dt.datetime(day = 16, month = 2, year = 2013, hour =21 , minute = 29, second = 30) )\n",
      "st_e=st.copy()\n",
      "st_e.trim(starttime=UTCstart_e, endtime=UTCstop_e)\n",
      "x1=(P-st_e[0].stats.starttime)\n",
      "x2=(S-st_e[0].stats.starttime)\n",
      "print x1\n",
      "print x2\n",
      "st_e.filter('bandpass',freqmin=0.2,freqmax=1, zerophase=1, corners=4)"
     ],
     "language": "python",
     "metadata": {},
     "outputs": [
      {
       "output_type": "stream",
       "stream": "stdout",
       "text": [
        "218.036309\n",
        "260.901728\n"
       ]
      }
     ],
     "prompt_number": 30
    },
    {
     "cell_type": "heading",
     "level": 3,
     "metadata": {},
     "source": [
      " Plotto tutte le tracce"
     ]
    },
    {
     "cell_type": "code",
     "collapsed": false,
     "input": [
      "\n",
      "r,tr=ob.signal.rotate_NE_RT(st_e[1].data, st_e[2].data, 128.24439)\n",
      "\n",
      "f, ax = plt.subplots(4, sharex=True, sharey=False, figsize=(4.46,9.16))\n",
      "#plt.suptitle(r\"Sisma 16 Febbraio 2013 (Mi 4.8)\" )\n",
      "i=0\n",
      "t=np.linspace(0,st_e[0].data.shape[0]*0.02, st_e[0].data.shape[0]  )\n",
      "\n",
      "ax[0].plot(t,st_e[0].data)\n",
      "ax[1].plot(t,tr)\n",
      "ax[2].plot(t,r)\n",
      "ax[3].plot(t,st_e[3].data)\n",
      "\n",
      "ax[0].axes.ticklabel_format(style='sci', axis='y', scilimits=(0,0))\n",
      "ax[1].axes.ticklabel_format(style='sci', axis='y', scilimits=(0,0))\n",
      "ax[2].axes.ticklabel_format(style='sci', axis='y', scilimits=(0,0))\n",
      "ax[3].axes.ticklabel_format(style='sci', axis='y', scilimits=(0,0))\n",
      "pylab.xlabel(r\"Tempo $(s)$\")\n",
      "ax[0].legend(loc=1)\n",
      "#pylab.xlim(0, 950) \n",
      "#pylab.plot()\n",
      "#pylab.legend()\n",
      "f.text(0.5, 0.91, r\"Sismometro - canale Z\", horizontalalignment='center', rotation='horizontal')\n",
      "f.text(0.5, 0.70, r\"Sismometro - componente trasversale\", horizontalalignment='center', rotation='horizontal')\n",
      "f.text(0.5, 0.49, r\"Sismometro - componente radiale\", horizontalalignment='center', rotation='horizontal')\n",
      "f.text(0.5, 0.285, r\"Giroscopio\", horizontalalignment='center', rotation='horizontal')\n",
      "\n",
      "f.text(0.05, 0.2, r\"Velocita' angolare $(rad/s)$\", horizontalalignment='right', verticalalignment='center', rotation='vertical')\n",
      "f.text(0.05, 0.61, r\"Accelerazione $(m/s^2)$\", horizontalalignment='right', verticalalignment='center', rotation='vertical')\n",
      "pylab.setp([a.get_xticklabels() for a in f.axes[:-1]], visible=False)\n",
      "f.savefig(\"plot-serie.png\", dpi=300)"
     ],
     "language": "python",
     "metadata": {},
     "outputs": [],
     "prompt_number": 48
    },
    {
     "cell_type": "code",
     "collapsed": false,
     "input": [
      "st_e.detrend(\"demean\")"
     ],
     "language": "python",
     "metadata": {},
     "outputs": [],
     "prompt_number": 341
    },
    {
     "cell_type": "code",
     "collapsed": false,
     "input": [
      "\n",
      "r,t=ob.signal.rotate_NE_RT(st_e[1].data, st_e[2].data, 128.24439)\n",
      "\n",
      "window=10*50\n",
      "hoverlap=0.9\n",
      "i=0\n",
      "j=window\n",
      "n=0\n",
      "c=np.array([])\n",
      "c1=np.array([])\n",
      "f, ax = plt.subplots(2)\n",
      "while j<len(st_e[0].data):\n",
      "    z,x=ob.signal.xcorr(st_e[3].data[i:j], r[i:j],0)\n",
      "    x1=np.corrcoef(st_e[3].data[i:j], st_e[0][i:j])\n",
      "    c=np.append(c,x)\n",
      "    c1=np.append(c1,x1[0][1])\n",
      "    i=i+window*(1-hoverlap)\n",
      "    j=j+window*(1-hoverlap)\n",
      "    n=n+1\n",
      "    #print n\n",
      "ax[0].plot(abs(c1),'k')\n",
      "j=np.arange(len(c1))\n",
      "ax[0].plot(semplifica(j,100),semplifica(abs(c1),100),'r')\n",
      "#ax[0].plot(abs(c))\n",
      "ax[1].plot(st_e[3])\n",
      "pylab.show()"
     ],
     "language": "python",
     "metadata": {},
     "outputs": [],
     "prompt_number": 47
    },
    {
     "cell_type": "code",
     "collapsed": false,
     "input": [
      "st_e[0].data.shape[0]/200"
     ],
     "language": "python",
     "metadata": {},
     "outputs": [
      {
       "output_type": "pyout",
       "prompt_number": 288,
       "text": [
        "240"
       ]
      }
     ],
     "prompt_number": 288
    },
    {
     "cell_type": "code",
     "collapsed": false,
     "input": [
      "#from obspy.iris import Client\n",
      "#client = Client()\n",
      "#z=client.distaz(43.663832,10.351733,o.latitude, o.longitude)\n",
      "z['backazimuth']\n",
      "r,t=ob.signal.rotate_NE_RT(st[1].data, st[2].data, z['backazimuth'])"
     ],
     "language": "python",
     "metadata": {},
     "outputs": [],
     "prompt_number": 42
    },
    {
     "cell_type": "code",
     "collapsed": false,
     "input": [
      "r.shape"
     ],
     "language": "python",
     "metadata": {},
     "outputs": [
      {
       "output_type": "pyout",
       "prompt_number": 53,
       "text": [
        "(135001,)"
       ]
      }
     ],
     "prompt_number": 53
    },
    {
     "cell_type": "heading",
     "level": 3,
     "metadata": {},
     "source": [
      "Spettogrammi dopo applicazione del filtro"
     ]
    },
    {
     "cell_type": "code",
     "collapsed": false,
     "input": [
      "#from obspy.core import util\n",
      "#util.gps2DistAzimuth(43.663832,10.351733,o.latitude, o.longitude)\n",
      "from obspy.iris import Client\n",
      "client = Client()\n",
      "client.distaz(43.663832,10.351733,o.latitude, o.longitude)"
     ],
     "language": "python",
     "metadata": {},
     "outputs": [
      {
       "output_type": "pyout",
       "prompt_number": 25,
       "text": [
        "{'azimuth': 310.42319, 'backazimuth': 128.24439, 'distance': 3.07351}"
       ]
      }
     ],
     "prompt_number": 25
    },
    {
     "cell_type": "code",
     "collapsed": false,
     "input": [
      "print \"backazimuth stimanto:\", 90+37"
     ],
     "language": "python",
     "metadata": {},
     "outputs": [
      {
       "output_type": "stream",
       "stream": "stdout",
       "text": [
        "backazimuth stimanto: 127\n"
       ]
      }
     ],
     "prompt_number": 12
    },
    {
     "cell_type": "code",
     "collapsed": false,
     "input": [],
     "language": "python",
     "metadata": {},
     "outputs": []
    }
   ],
   "metadata": {}
  }
 ]
}