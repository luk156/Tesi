{
 "metadata": {
  "name": "rawdata"
 },
 "nbformat": 3,
 "nbformat_minor": 0,
 "worksheets": [
  {
   "cells": [
    {
     "cell_type": "code",
     "collapsed": false,
     "input": [
      "import matplotlib as mpl\n",
      "\n",
      "#To make sure we have always the same matplotlib settings\n",
      "#(the ones in comments are the ipython notebook settings)\n",
      "mpl.rcParams['backend']=\"Cairo\"    #(6.0,4.0)\n",
      "mpl.rcParams['interactive']=\"False\"               #10\n",
      "mpl.rcParams['toolbar']=\"None\"     #(6.0,4.0)\n",
      "mpl.rcParams['font.size']=10                #10\n",
      "mpl.rcParams['font.family']=\"serif\"  \n",
      "mpl.rcParams['text.usetex']=\"True\"\n",
      "mpl.rcParams['text.latex.unicode']=\"True\"\n",
      "mpl.rcParams['text.latex.preamble']= \"\\usepackage{bm}\"\n",
      "mpl.rcParams['xtick.labelsize']=10\n",
      "mpl.rcParams['ytick.labelsize']=10\n",
      "mpl.rcParams['legend.fontsize']=9 \n",
      "mpl.rcParams['savefig.dpi']=300             #72 \n",
      "mpl.rcParams['axes.hold']=\"True\"\n",
      "import warnings\n",
      "warnings.filterwarnings('ignore')\n",
      "import datetime as dt\n",
      "import unisci"
     ],
     "language": "python",
     "metadata": {},
     "outputs": [],
     "prompt_number": 9
    },
    {
     "cell_type": "code",
     "collapsed": false,
     "input": [
      "ora = dt.datetime(day = 16, month = 2, year = 2013, hour = 22, minute = 59, second = 0 )\n",
      "data_folder = \"/home/matteo/Tesi-data/glaser-data/\"\n",
      "\n",
      "header, data, start_data, found = unisci.read_gyro_file(ora, data_folder, header_lenght =202, channel_array = np.array([5000,5000,5000,5000]))"
     ],
     "language": "python",
     "metadata": {},
     "outputs": [
      {
       "output_type": "stream",
       "stream": "stdout",
       "text": [
        "open /home/matteo/Tesi-data/glaser-data/2013/2/16/data22.dat\n",
        "il file contiene "
       ]
      },
      {
       "output_type": "stream",
       "stream": "stdout",
       "text": [
        " 3600  secondi\n",
        "dalle ore:  2013-02-16 21:59:27 alle:  2013-02-16 22:59:27\n"
       ]
      }
     ],
     "prompt_number": 10
    },
    {
     "cell_type": "code",
     "collapsed": false,
     "input": [
      "\n",
      "f, (ax1, ax2, ax3) = plt.subplots(3, sharex=True, sharey=True, figsize=(4.46,9.14))\n",
      "ax1.plot(np.linspace(0,0.2,200) ,data[0][0:200]*2e-9,'.', label=r\"canale 0\")\n",
      "ax2.plot(np.linspace(0,0.2,200) ,data[1][0:200]*2e-9,'.', label=r\"canale 1\")\n",
      "ax3.plot(np.linspace(0,0.2,200) ,data[2][0:200]*2e-9,'.', label=r\"canale 2\")\n",
      "#f.subplots_adjust(hspace=0)\n",
      "f.text(0.07, 0.5, r\"Potenza $(W)$\", horizontalalignment='right', verticalalignment='center', rotation='vertical')\n",
      "pylab.xlabel(r\"Tempo $(s)$\")\n",
      "ax1.legend(loc=4)\n",
      "ax2.legend(loc=4)\n",
      "ax3.legend(loc=4)\n",
      "plt.setp([a.get_xticklabels() for a in f.axes[:-1]], visible=False)\n",
      "plt.savefig(\"plot2.png\", dpi=300)"
     ],
     "language": "python",
     "metadata": {},
     "outputs": [],
     "prompt_number": 64
    },
    {
     "cell_type": "code",
     "collapsed": false,
     "input": [],
     "language": "python",
     "metadata": {},
     "outputs": []
    }
   ],
   "metadata": {}
  }
 ]
}